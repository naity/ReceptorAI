{
 "cells": [
  {
   "cell_type": "code",
   "execution_count": 1,
   "metadata": {},
   "outputs": [
    {
     "name": "stderr",
     "output_type": "stream",
     "text": [
      "/home/ytian/anaconda3/envs/receptorgpt/lib/python3.11/site-packages/tqdm/auto.py:21: TqdmWarning: IProgress not found. Please update jupyter and ipywidgets. See https://ipywidgets.readthedocs.io/en/stable/user_install.html\n",
      "  from .autonotebook import tqdm as notebook_tqdm\n"
     ]
    }
   ],
   "source": [
    "import os\n",
    "import pandas as pd\n",
    "import numpy as np\n",
    "import uuid\n",
    "\n",
    "from utils.funcs import get_model, get_embeddings, upsert_to_index\n",
    "from tqdm.autonotebook import tqdm\n",
    "from pinecone import Pinecone"
   ]
  },
  {
   "cell_type": "code",
   "execution_count": 2,
   "metadata": {},
   "outputs": [
    {
     "name": "stdout",
     "output_type": "stream",
     "text": [
      "(48540, 9)\n"
     ]
    },
    {
     "data": {
      "text/html": [
       "<div>\n",
       "<style scoped>\n",
       "    .dataframe tbody tr th:only-of-type {\n",
       "        vertical-align: middle;\n",
       "    }\n",
       "\n",
       "    .dataframe tbody tr th {\n",
       "        vertical-align: top;\n",
       "    }\n",
       "\n",
       "    .dataframe thead th {\n",
       "        text-align: right;\n",
       "    }\n",
       "</style>\n",
       "<table border=\"1\" class=\"dataframe\">\n",
       "  <thead>\n",
       "    <tr style=\"text-align: right;\">\n",
       "      <th></th>\n",
       "      <th>Species</th>\n",
       "      <th>Antigen Epitope</th>\n",
       "      <th>Antigen Protein</th>\n",
       "      <th>Antigen Source</th>\n",
       "      <th>CDR3.beta.aa</th>\n",
       "      <th>TRBV</th>\n",
       "      <th>TRBJ</th>\n",
       "      <th>Reference</th>\n",
       "      <th>Database</th>\n",
       "    </tr>\n",
       "  </thead>\n",
       "  <tbody>\n",
       "    <tr>\n",
       "      <th>0</th>\n",
       "      <td>Mouse</td>\n",
       "      <td>IKAVYNFATCG</td>\n",
       "      <td>Pre-glycoprotein polyprotein GP complex</td>\n",
       "      <td>LCMV</td>\n",
       "      <td>CASSDAGANTEVF</td>\n",
       "      <td>TRBV8-1</td>\n",
       "      <td>TRBJ1-1</td>\n",
       "      <td>PMID:1716213</td>\n",
       "      <td>McPAS-TCR</td>\n",
       "    </tr>\n",
       "    <tr>\n",
       "      <th>1</th>\n",
       "      <td>Mouse</td>\n",
       "      <td>IKAVYNFATCG</td>\n",
       "      <td>Pre-glycoprotein polyprotein GP complex</td>\n",
       "      <td>LCMV</td>\n",
       "      <td>CASSDAGAYAEQF</td>\n",
       "      <td>TRBV8-1</td>\n",
       "      <td>TRBJ2-1</td>\n",
       "      <td>PMID:1716213</td>\n",
       "      <td>McPAS-TCR</td>\n",
       "    </tr>\n",
       "    <tr>\n",
       "      <th>2</th>\n",
       "      <td>Mouse</td>\n",
       "      <td>IKAVYNFATCG</td>\n",
       "      <td>Pre-glycoprotein polyprotein GP complex</td>\n",
       "      <td>LCMV</td>\n",
       "      <td>CASSDAGGAAEVF</td>\n",
       "      <td>TRBV8-3</td>\n",
       "      <td>TRBJ1-1</td>\n",
       "      <td>PMID:1716213</td>\n",
       "      <td>McPAS-TCR</td>\n",
       "    </tr>\n",
       "    <tr>\n",
       "      <th>3</th>\n",
       "      <td>Mouse</td>\n",
       "      <td>IKAVYNFATCG</td>\n",
       "      <td>Pre-glycoprotein polyprotein GP complex</td>\n",
       "      <td>LCMV</td>\n",
       "      <td>CASSDAGHSPLYF</td>\n",
       "      <td>TRBV8-1</td>\n",
       "      <td>TRBJ1-6</td>\n",
       "      <td>PMID:1716213</td>\n",
       "      <td>McPAS-TCR</td>\n",
       "    </tr>\n",
       "    <tr>\n",
       "      <th>4</th>\n",
       "      <td>Mouse</td>\n",
       "      <td>IKAVYNFATCG</td>\n",
       "      <td>Pre-glycoprotein polyprotein GP complex</td>\n",
       "      <td>LCMV</td>\n",
       "      <td>CASSDAWGGAEQYF</td>\n",
       "      <td>TRBV8-3</td>\n",
       "      <td>TRBJ2-6</td>\n",
       "      <td>PMID:1716213</td>\n",
       "      <td>McPAS-TCR</td>\n",
       "    </tr>\n",
       "  </tbody>\n",
       "</table>\n",
       "</div>"
      ],
      "text/plain": [
       "  Species Antigen Epitope                          Antigen Protein  \\\n",
       "0   Mouse     IKAVYNFATCG  Pre-glycoprotein polyprotein GP complex   \n",
       "1   Mouse     IKAVYNFATCG  Pre-glycoprotein polyprotein GP complex   \n",
       "2   Mouse     IKAVYNFATCG  Pre-glycoprotein polyprotein GP complex   \n",
       "3   Mouse     IKAVYNFATCG  Pre-glycoprotein polyprotein GP complex   \n",
       "4   Mouse     IKAVYNFATCG  Pre-glycoprotein polyprotein GP complex   \n",
       "\n",
       "  Antigen Source    CDR3.beta.aa     TRBV     TRBJ     Reference   Database  \n",
       "0           LCMV   CASSDAGANTEVF  TRBV8-1  TRBJ1-1  PMID:1716213  McPAS-TCR  \n",
       "1           LCMV   CASSDAGAYAEQF  TRBV8-1  TRBJ2-1  PMID:1716213  McPAS-TCR  \n",
       "2           LCMV   CASSDAGGAAEVF  TRBV8-3  TRBJ1-1  PMID:1716213  McPAS-TCR  \n",
       "3           LCMV   CASSDAGHSPLYF  TRBV8-1  TRBJ1-6  PMID:1716213  McPAS-TCR  \n",
       "4           LCMV  CASSDAWGGAEQYF  TRBV8-3  TRBJ2-6  PMID:1716213  McPAS-TCR  "
      ]
     },
     "execution_count": 2,
     "metadata": {},
     "output_type": "execute_result"
    }
   ],
   "source": [
    "tcrs = pd.read_parquet(\"data/antigen_specific_tcrs.parquet\")\n",
    "print(tcrs.shape)\n",
    "tcrs.head()"
   ]
  },
  {
   "cell_type": "code",
   "execution_count": 3,
   "metadata": {},
   "outputs": [
    {
     "data": {
      "text/plain": [
       "38"
      ]
     },
     "execution_count": 3,
     "metadata": {},
     "output_type": "execute_result"
    }
   ],
   "source": [
    "tcrs[\"CDR3.beta.aa\"].str.len().max()"
   ]
  },
  {
   "cell_type": "code",
   "execution_count": 4,
   "metadata": {},
   "outputs": [
    {
     "data": {
      "text/plain": [
       "False"
      ]
     },
     "execution_count": 4,
     "metadata": {},
     "output_type": "execute_result"
    }
   ],
   "source": [
    "tcrs[\"CDR3.beta.aa\"].duplicated().any()"
   ]
  },
  {
   "cell_type": "code",
   "execution_count": 5,
   "metadata": {},
   "outputs": [
    {
     "data": {
      "text/plain": [
       "Species\n",
       "Human    45750\n",
       "Mouse     2790\n",
       "Name: count, dtype: int64"
      ]
     },
     "execution_count": 5,
     "metadata": {},
     "output_type": "execute_result"
    }
   ],
   "source": [
    "tcrs[\"Species\"].value_counts()"
   ]
  },
  {
   "cell_type": "code",
   "execution_count": 6,
   "metadata": {},
   "outputs": [
    {
     "data": {
      "text/plain": [
       "Antigen Source\n",
       "CMV           19441\n",
       "SARS-CoV-2     5000\n",
       "Influenza      4226\n",
       "EBV            4104\n",
       "InfluenzaA     3585\n",
       "Name: count, dtype: int64"
      ]
     },
     "execution_count": 6,
     "metadata": {},
     "output_type": "execute_result"
    }
   ],
   "source": [
    "tcrs[\"Antigen Source\"].value_counts()[:5]"
   ]
  },
  {
   "cell_type": "code",
   "execution_count": 7,
   "metadata": {},
   "outputs": [
    {
     "name": "stdout",
     "output_type": "stream",
     "text": [
      "(34099, 9)\n"
     ]
    },
    {
     "data": {
      "text/html": [
       "<div>\n",
       "<style scoped>\n",
       "    .dataframe tbody tr th:only-of-type {\n",
       "        vertical-align: middle;\n",
       "    }\n",
       "\n",
       "    .dataframe tbody tr th {\n",
       "        vertical-align: top;\n",
       "    }\n",
       "\n",
       "    .dataframe thead th {\n",
       "        text-align: right;\n",
       "    }\n",
       "</style>\n",
       "<table border=\"1\" class=\"dataframe\">\n",
       "  <thead>\n",
       "    <tr style=\"text-align: right;\">\n",
       "      <th></th>\n",
       "      <th>Species</th>\n",
       "      <th>Antigen Epitope</th>\n",
       "      <th>Antigen Protein</th>\n",
       "      <th>Antigen Source</th>\n",
       "      <th>CDR3.beta.aa</th>\n",
       "      <th>TRBV</th>\n",
       "      <th>TRBJ</th>\n",
       "      <th>Reference</th>\n",
       "      <th>Database</th>\n",
       "    </tr>\n",
       "  </thead>\n",
       "  <tbody>\n",
       "    <tr>\n",
       "      <th>0</th>\n",
       "      <td>Human</td>\n",
       "      <td>KLGGALQAK</td>\n",
       "      <td>IE1</td>\n",
       "      <td>CMV</td>\n",
       "      <td>CASSPKTSVTYNEQFF</td>\n",
       "      <td>TRBV7-9*01</td>\n",
       "      <td>TRBJ2-1*01</td>\n",
       "      <td>https://www.10xgenomics.com/resources/applicat...</td>\n",
       "      <td>VDJdb</td>\n",
       "    </tr>\n",
       "    <tr>\n",
       "      <th>1</th>\n",
       "      <td>Human</td>\n",
       "      <td>NLVPMVATV</td>\n",
       "      <td>pp65</td>\n",
       "      <td>CMV</td>\n",
       "      <td>CASSLDSLNTIYF</td>\n",
       "      <td>TRBV5-1*01</td>\n",
       "      <td>TRBJ1-3*01</td>\n",
       "      <td>PMID:28423320</td>\n",
       "      <td>VDJdb</td>\n",
       "    </tr>\n",
       "    <tr>\n",
       "      <th>2</th>\n",
       "      <td>Human</td>\n",
       "      <td>KLGGALQAK</td>\n",
       "      <td>IE1</td>\n",
       "      <td>CMV</td>\n",
       "      <td>CASSSRTSSTDTQYF</td>\n",
       "      <td>TRBV12-4*01</td>\n",
       "      <td>TRBJ2-3*01</td>\n",
       "      <td>https://www.10xgenomics.com/resources/applicat...</td>\n",
       "      <td>VDJdb</td>\n",
       "    </tr>\n",
       "    <tr>\n",
       "      <th>3</th>\n",
       "      <td>Human</td>\n",
       "      <td>KLGGALQAK</td>\n",
       "      <td>IE1</td>\n",
       "      <td>CMV</td>\n",
       "      <td>CSSESGTSEAFF</td>\n",
       "      <td>TRBV29-1*01</td>\n",
       "      <td>TRBJ1-1*01</td>\n",
       "      <td>https://www.10xgenomics.com/resources/applicat...</td>\n",
       "      <td>VDJdb</td>\n",
       "    </tr>\n",
       "    <tr>\n",
       "      <th>4</th>\n",
       "      <td>Human</td>\n",
       "      <td>KLGGALQAK</td>\n",
       "      <td>IE1</td>\n",
       "      <td>CMV</td>\n",
       "      <td>CSVEYGLAGSTDTQYF</td>\n",
       "      <td>TRBV29-1*01</td>\n",
       "      <td>TRBJ2-3*01</td>\n",
       "      <td>https://www.10xgenomics.com/resources/applicat...</td>\n",
       "      <td>VDJdb</td>\n",
       "    </tr>\n",
       "  </tbody>\n",
       "</table>\n",
       "</div>"
      ],
      "text/plain": [
       "  Species Antigen Epitope Antigen Protein Antigen Source      CDR3.beta.aa  \\\n",
       "0   Human       KLGGALQAK             IE1            CMV  CASSPKTSVTYNEQFF   \n",
       "1   Human       NLVPMVATV            pp65            CMV     CASSLDSLNTIYF   \n",
       "2   Human       KLGGALQAK             IE1            CMV   CASSSRTSSTDTQYF   \n",
       "3   Human       KLGGALQAK             IE1            CMV      CSSESGTSEAFF   \n",
       "4   Human       KLGGALQAK             IE1            CMV  CSVEYGLAGSTDTQYF   \n",
       "\n",
       "          TRBV        TRBJ                                          Reference  \\\n",
       "0   TRBV7-9*01  TRBJ2-1*01  https://www.10xgenomics.com/resources/applicat...   \n",
       "1   TRBV5-1*01  TRBJ1-3*01                                      PMID:28423320   \n",
       "2  TRBV12-4*01  TRBJ2-3*01  https://www.10xgenomics.com/resources/applicat...   \n",
       "3  TRBV29-1*01  TRBJ1-1*01  https://www.10xgenomics.com/resources/applicat...   \n",
       "4  TRBV29-1*01  TRBJ2-3*01  https://www.10xgenomics.com/resources/applicat...   \n",
       "\n",
       "  Database  \n",
       "0    VDJdb  \n",
       "1    VDJdb  \n",
       "2    VDJdb  \n",
       "3    VDJdb  \n",
       "4    VDJdb  "
      ]
     },
     "execution_count": 7,
     "metadata": {},
     "output_type": "execute_result"
    }
   ],
   "source": [
    "# downsample CMV TCRs\n",
    "tcrs_cmv = tcrs.loc[tcrs[\"Antigen Source\"] == \"CMV\"]\n",
    "tcrs_other = tcrs.loc[tcrs[\"Antigen Source\"] != \"CMV\"]\n",
    "\n",
    "tcrs_cmv = tcrs_cmv.sample(n=5000, random_state=0)\n",
    "tcrs = pd.concat([tcrs_cmv, tcrs_other], ignore_index=True)\n",
    "print(tcrs.shape)\n",
    "tcrs.head()"
   ]
  },
  {
   "cell_type": "code",
   "execution_count": 8,
   "metadata": {},
   "outputs": [
    {
     "data": {
      "text/plain": [
       "'https://www.10xgenomics.com/resources/application-notes/a-new-way-of-exploring-immunity-linking-highly-multiplexed-antigen-recognition-to-immune-repertoire-and-phenotype/#'"
      ]
     },
     "execution_count": 8,
     "metadata": {},
     "output_type": "execute_result"
    }
   ],
   "source": [
    "pubmed_base_url = \"https://pubmed.ncbi.nlm.nih.gov/\"\n",
    "\n",
    "\n",
    "# pubmed link\n",
    "def format_link(s):\n",
    "    if s.startswith(\"PMID:\"):\n",
    "        return s.replace(\"PMID:\", pubmed_base_url)\n",
    "    return s\n",
    "\n",
    "\n",
    "tcrs[\"Reference\"] = tcrs[\"Reference\"].map(format_link)\n",
    "tcrs[\"Reference\"].iloc[0]"
   ]
  },
  {
   "cell_type": "code",
   "execution_count": 9,
   "metadata": {},
   "outputs": [
    {
     "name": "stderr",
     "output_type": "stream",
     "text": [
      "2024-05-17 22:36:16.137 \n",
      "  \u001b[33m\u001b[1mWarning:\u001b[0m to view this Streamlit app on a browser, run it with the following\n",
      "  command:\n",
      "\n",
      "    streamlit run /home/ytian/anaconda3/envs/receptorgpt/lib/python3.11/site-packages/ipykernel_launcher.py [ARGUMENTS]\n",
      "Some weights of EsmModel were not initialized from the model checkpoint at facebook/esm2_t6_8M_UR50D and are newly initialized: ['esm.pooler.dense.bias', 'esm.pooler.dense.weight']\n",
      "You should probably TRAIN this model on a down-stream task to be able to use it for predictions and inference.\n"
     ]
    }
   ],
   "source": [
    "tokenizer, model = get_model(\"facebook/esm2_t6_8M_UR50D\")"
   ]
  },
  {
   "cell_type": "code",
   "execution_count": 10,
   "metadata": {},
   "outputs": [
    {
     "name": "stderr",
     "output_type": "stream",
     "text": [
      "100%|██████████| 341/341 [00:28<00:00, 11.90it/s]\n"
     ]
    },
    {
     "data": {
      "text/plain": [
       "(34099, 320)"
      ]
     },
     "execution_count": 10,
     "metadata": {},
     "output_type": "execute_result"
    }
   ],
   "source": [
    "embeddings = []\n",
    "batch_size = 100\n",
    "seqs = tcrs[\"CDR3.beta.aa\"].tolist()\n",
    "\n",
    "for i in tqdm(range(0, len(seqs), batch_size)):\n",
    "    embeds = get_embeddings(tokenizer, model, seqs[i : i + batch_size])\n",
    "    embeddings.append(embeds)\n",
    "\n",
    "embeddings = np.concatenate(embeddings, axis=0)\n",
    "embeddings.shape"
   ]
  },
  {
   "cell_type": "code",
   "execution_count": 11,
   "metadata": {},
   "outputs": [
    {
     "data": {
      "text/plain": [
       "34099"
      ]
     },
     "execution_count": 11,
     "metadata": {},
     "output_type": "execute_result"
    }
   ],
   "source": [
    "# convert to list\n",
    "embeddings = embeddings.tolist()\n",
    "len(embeddings)"
   ]
  },
  {
   "cell_type": "code",
   "execution_count": 12,
   "metadata": {},
   "outputs": [
    {
     "data": {
      "text/plain": [
       "[{'Species': 'Human',\n",
       "  'Antigen Epitope': 'KLGGALQAK',\n",
       "  'Antigen Protein': 'IE1',\n",
       "  'Antigen Source': 'CMV',\n",
       "  'CDR3.beta.aa': 'CASSPKTSVTYNEQFF',\n",
       "  'TRBV': 'TRBV7-9*01',\n",
       "  'TRBJ': 'TRBJ2-1*01',\n",
       "  'Reference': 'https://www.10xgenomics.com/resources/application-notes/a-new-way-of-exploring-immunity-linking-highly-multiplexed-antigen-recognition-to-immune-repertoire-and-phenotype/#',\n",
       "  'Database': 'VDJdb'}]"
      ]
     },
     "execution_count": 12,
     "metadata": {},
     "output_type": "execute_result"
    }
   ],
   "source": [
    "# prepare metadata\n",
    "metadatas = tcrs.to_dict(\"records\")\n",
    "metadatas[:1]"
   ]
  },
  {
   "cell_type": "code",
   "execution_count": 13,
   "metadata": {},
   "outputs": [],
   "source": [
    "# merge the three lists int a single list of dictionaries\n",
    "# use uuid to generate unique ids\n",
    "records = [\n",
    "    {\"id\": str(uuid.uuid4()), \"values\": e, \"metadata\": m}\n",
    "    for e, m in zip(embeddings, metadatas)\n",
    "]"
   ]
  },
  {
   "cell_type": "code",
   "execution_count": 14,
   "metadata": {},
   "outputs": [
    {
     "data": {
      "text/plain": [
       "34099"
      ]
     },
     "execution_count": 14,
     "metadata": {},
     "output_type": "execute_result"
    }
   ],
   "source": [
    "len(records)"
   ]
  },
  {
   "cell_type": "code",
   "execution_count": 15,
   "metadata": {},
   "outputs": [
    {
     "data": {
      "text/plain": [
       "{'id': '3e4da022-1f56-4f8f-98d7-6f076fb939c2',\n",
       " 'values': [-0.000996788963675499,\n",
       "  -0.2494887411594391,\n",
       "  0.1272898018360138,\n",
       "  0.11934084445238113,\n",
       "  0.022819960489869118,\n",
       "  -0.036739613860845566,\n",
       "  -0.17488379776477814,\n",
       "  -0.08020184189081192,\n",
       "  -0.19916585087776184,\n",
       "  -0.0760434940457344,\n",
       "  -0.08207184076309204,\n",
       "  0.37416425347328186,\n",
       "  0.1361832320690155,\n",
       "  0.09151215851306915,\n",
       "  -0.21137793362140656,\n",
       "  0.03580343350768089,\n",
       "  0.15209656953811646,\n",
       "  -0.04301324486732483,\n",
       "  0.18764396011829376,\n",
       "  -0.2048741579055786,\n",
       "  -0.12977296113967896,\n",
       "  0.05499275028705597,\n",
       "  0.10816902667284012,\n",
       "  0.021946214139461517,\n",
       "  0.09488830715417862,\n",
       "  0.24555286765098572,\n",
       "  -0.0034690089523792267,\n",
       "  -0.033150218427181244,\n",
       "  0.08120252192020416,\n",
       "  -0.029781559482216835,\n",
       "  0.03547398000955582,\n",
       "  -0.005609595216810703,\n",
       "  0.05505049601197243,\n",
       "  -0.23076193034648895,\n",
       "  0.1011500209569931,\n",
       "  -0.45892781019210815,\n",
       "  0.2678738534450531,\n",
       "  -0.12745873630046844,\n",
       "  0.32290250062942505,\n",
       "  0.1663869470357895,\n",
       "  -0.26399004459381104,\n",
       "  0.18574805557727814,\n",
       "  0.1515771746635437,\n",
       "  -0.05095028132200241,\n",
       "  -0.13365283608436584,\n",
       "  0.06152186542749405,\n",
       "  -1.5397945642471313,\n",
       "  0.16039404273033142,\n",
       "  -0.1255173683166504,\n",
       "  -0.044157665222883224,\n",
       "  0.1578994244337082,\n",
       "  0.08749733865261078,\n",
       "  0.24924610555171967,\n",
       "  -0.041695259511470795,\n",
       "  -0.1737939715385437,\n",
       "  -0.2811046540737152,\n",
       "  0.03741656616330147,\n",
       "  0.04119046777486801,\n",
       "  0.040564101189374924,\n",
       "  -0.17355434596538544,\n",
       "  0.010954616591334343,\n",
       "  0.05274348706007004,\n",
       "  -5.175307273864746,\n",
       "  -0.1019742414355278,\n",
       "  -0.018688973039388657,\n",
       "  0.018306296318769455,\n",
       "  -0.03529566526412964,\n",
       "  0.08461887389421463,\n",
       "  -0.19256143271923065,\n",
       "  0.17517870664596558,\n",
       "  -0.2726404666900635,\n",
       "  0.046245962381362915,\n",
       "  -0.20507901906967163,\n",
       "  0.0402803011238575,\n",
       "  -0.06674577295780182,\n",
       "  0.09044410288333893,\n",
       "  -0.05582214519381523,\n",
       "  -0.10417260229587555,\n",
       "  0.034377336502075195,\n",
       "  0.182981476187706,\n",
       "  0.20750370621681213,\n",
       "  0.017463453114032745,\n",
       "  0.0587557852268219,\n",
       "  0.24943681061267853,\n",
       "  -0.24110236763954163,\n",
       "  -0.2317115217447281,\n",
       "  0.03718569874763489,\n",
       "  0.1111694872379303,\n",
       "  0.1429160088300705,\n",
       "  0.062070924788713455,\n",
       "  -0.0009125098586082458,\n",
       "  0.085898257791996,\n",
       "  0.056812211871147156,\n",
       "  0.15088291466236115,\n",
       "  -0.24390672147274017,\n",
       "  0.12592190504074097,\n",
       "  -0.08476980775594711,\n",
       "  0.3072514533996582,\n",
       "  -0.07544725388288498,\n",
       "  -0.35930463671684265,\n",
       "  -0.11127946525812149,\n",
       "  0.060409363359212875,\n",
       "  0.11101744323968887,\n",
       "  -0.05782809853553772,\n",
       "  0.02562001533806324,\n",
       "  0.13838915526866913,\n",
       "  0.01868676021695137,\n",
       "  0.17905542254447937,\n",
       "  0.13960011303424835,\n",
       "  -0.17357632517814636,\n",
       "  -0.055744268000125885,\n",
       "  0.2089032679796219,\n",
       "  0.08258040994405746,\n",
       "  0.04390557110309601,\n",
       "  0.040200430899858475,\n",
       "  0.22624702751636505,\n",
       "  0.0575542114675045,\n",
       "  -0.04028350114822388,\n",
       "  -0.32404136657714844,\n",
       "  0.03148693963885307,\n",
       "  0.07512542605400085,\n",
       "  0.06650643795728683,\n",
       "  -0.027680832892656326,\n",
       "  -0.07050549983978271,\n",
       "  0.04592183232307434,\n",
       "  -0.18387992680072784,\n",
       "  0.005210068076848984,\n",
       "  -0.060700248926877975,\n",
       "  -0.1296185702085495,\n",
       "  0.0028650620952248573,\n",
       "  -0.0856049433350563,\n",
       "  -0.03251505643129349,\n",
       "  0.27962979674339294,\n",
       "  -0.016028856858611107,\n",
       "  -0.023674238473176956,\n",
       "  0.05392972752451897,\n",
       "  -0.11982233822345734,\n",
       "  0.0075264438055455685,\n",
       "  -0.1596917361021042,\n",
       "  -0.15143178403377533,\n",
       "  0.2893196642398834,\n",
       "  -0.03640161082148552,\n",
       "  -0.03704129531979561,\n",
       "  0.09773983061313629,\n",
       "  -0.15553224086761475,\n",
       "  0.0016661202535033226,\n",
       "  0.051135290414094925,\n",
       "  -0.04988257214426994,\n",
       "  -0.19635728001594543,\n",
       "  0.04492121934890747,\n",
       "  -0.1876966655254364,\n",
       "  -0.11203932017087936,\n",
       "  0.08293446153402328,\n",
       "  -0.3089006841182709,\n",
       "  0.128554567694664,\n",
       "  -0.12232547998428345,\n",
       "  -0.025516172870993614,\n",
       "  0.13293343782424927,\n",
       "  -0.06878633052110672,\n",
       "  0.2745159864425659,\n",
       "  -0.07591862976551056,\n",
       "  -0.13956071436405182,\n",
       "  0.122627392411232,\n",
       "  -0.08147720992565155,\n",
       "  0.028395311906933784,\n",
       "  -0.0844029039144516,\n",
       "  -0.150274395942688,\n",
       "  -0.13570661842823029,\n",
       "  0.010352297686040401,\n",
       "  0.0943240076303482,\n",
       "  0.03173910453915596,\n",
       "  0.1629423052072525,\n",
       "  -0.07735228538513184,\n",
       "  0.12408457696437836,\n",
       "  -0.0002933465875685215,\n",
       "  0.24110737442970276,\n",
       "  0.17677313089370728,\n",
       "  -0.18194885551929474,\n",
       "  -0.10933418571949005,\n",
       "  -0.2412114143371582,\n",
       "  0.06511850655078888,\n",
       "  -0.45616188645362854,\n",
       "  0.005559463053941727,\n",
       "  0.02641088142991066,\n",
       "  0.03439337760210037,\n",
       "  -0.022700367495417595,\n",
       "  -0.42541971802711487,\n",
       "  0.31493911147117615,\n",
       "  -0.14856794476509094,\n",
       "  -0.15571892261505127,\n",
       "  -0.2624336779117584,\n",
       "  0.20865589380264282,\n",
       "  0.6386914253234863,\n",
       "  0.18077045679092407,\n",
       "  0.26588720083236694,\n",
       "  0.05843934416770935,\n",
       "  -0.13212060928344727,\n",
       "  0.09003686159849167,\n",
       "  0.21575503051280975,\n",
       "  0.2399524301290512,\n",
       "  -0.04846317693591118,\n",
       "  0.1156548485159874,\n",
       "  0.21150930225849152,\n",
       "  0.1640792042016983,\n",
       "  0.06272130459547043,\n",
       "  -0.05893011391162872,\n",
       "  -0.1348375529050827,\n",
       "  -0.3325376510620117,\n",
       "  0.04669219255447388,\n",
       "  0.32370126247406006,\n",
       "  -0.025942109525203705,\n",
       "  -0.011293452233076096,\n",
       "  -0.208912193775177,\n",
       "  0.24170316755771637,\n",
       "  -0.0472104586660862,\n",
       "  0.20993411540985107,\n",
       "  -0.02873014658689499,\n",
       "  0.017444327473640442,\n",
       "  -0.11456558853387833,\n",
       "  -0.09084244072437286,\n",
       "  -0.43680912256240845,\n",
       "  -0.20435231924057007,\n",
       "  0.37530767917633057,\n",
       "  0.07323405891656876,\n",
       "  -0.07966845482587814,\n",
       "  -0.0931582897901535,\n",
       "  -0.015567630529403687,\n",
       "  0.10872715711593628,\n",
       "  -0.12969420850276947,\n",
       "  0.14464455842971802,\n",
       "  -0.024455096572637558,\n",
       "  -0.007978767156600952,\n",
       "  0.09693913906812668,\n",
       "  -0.0033424654975533485,\n",
       "  0.24812516570091248,\n",
       "  0.2292792648077011,\n",
       "  0.22371961176395416,\n",
       "  -0.11467860639095306,\n",
       "  0.20093458890914917,\n",
       "  0.054814424365758896,\n",
       "  -0.22328288853168488,\n",
       "  -0.1375211924314499,\n",
       "  -0.10325752198696136,\n",
       "  0.1528148353099823,\n",
       "  -0.13710549473762512,\n",
       "  0.07432052493095398,\n",
       "  0.32623806595802307,\n",
       "  0.440542608499527,\n",
       "  0.10526158660650253,\n",
       "  0.17530153691768646,\n",
       "  -0.05492377653717995,\n",
       "  0.23773841559886932,\n",
       "  -0.1331695020198822,\n",
       "  -0.1787785440683365,\n",
       "  -0.2106972187757492,\n",
       "  -0.09662842750549316,\n",
       "  -0.17336875200271606,\n",
       "  -0.11502183973789215,\n",
       "  0.284932017326355,\n",
       "  -0.24231085181236267,\n",
       "  0.015590217895805836,\n",
       "  0.09887368977069855,\n",
       "  -0.08732011914253235,\n",
       "  0.11940550804138184,\n",
       "  0.06064404547214508,\n",
       "  0.1160191223025322,\n",
       "  -0.13529102504253387,\n",
       "  -0.06571449339389801,\n",
       "  0.1782044768333435,\n",
       "  0.12455503642559052,\n",
       "  0.02445928379893303,\n",
       "  0.17577460408210754,\n",
       "  0.3223509192466736,\n",
       "  0.18680313229560852,\n",
       "  -0.034311436116695404,\n",
       "  -0.1587199866771698,\n",
       "  -0.015798155218362808,\n",
       "  0.2251838892698288,\n",
       "  0.08339992165565491,\n",
       "  0.18304377794265747,\n",
       "  -0.01876751333475113,\n",
       "  -0.14040717482566833,\n",
       "  0.20538653433322906,\n",
       "  0.22793862223625183,\n",
       "  0.12728551030158997,\n",
       "  0.2839936912059784,\n",
       "  -0.13394254446029663,\n",
       "  0.060580961406230927,\n",
       "  -0.1304708570241928,\n",
       "  -0.19954586029052734,\n",
       "  -0.07418551295995712,\n",
       "  -0.17536598443984985,\n",
       "  0.4179961681365967,\n",
       "  0.10800835490226746,\n",
       "  -0.0033619552850723267,\n",
       "  -0.13744421303272247,\n",
       "  -0.11733788996934891,\n",
       "  0.011408228427171707,\n",
       "  -0.4408917725086212,\n",
       "  0.197049081325531,\n",
       "  -0.02936188504099846,\n",
       "  -0.09792689234018326,\n",
       "  -0.18917891383171082,\n",
       "  0.3590739667415619,\n",
       "  -0.05441131815314293,\n",
       "  -0.18660381436347961,\n",
       "  -0.1438097208738327,\n",
       "  0.019274570047855377,\n",
       "  -0.258786141872406,\n",
       "  0.06479748338460922,\n",
       "  0.19766831398010254,\n",
       "  -0.14045162498950958,\n",
       "  0.3045787215232849,\n",
       "  0.21586093306541443,\n",
       "  -0.08893983066082001,\n",
       "  0.13187110424041748,\n",
       "  -0.0033767898567020893,\n",
       "  -0.050748664885759354,\n",
       "  0.3002164363861084,\n",
       "  0.06999097764492035],\n",
       " 'metadata': {'Species': 'Human',\n",
       "  'Antigen Epitope': 'KLGGALQAK',\n",
       "  'Antigen Protein': 'IE1',\n",
       "  'Antigen Source': 'CMV',\n",
       "  'CDR3.beta.aa': 'CASSPKTSVTYNEQFF',\n",
       "  'TRBV': 'TRBV7-9*01',\n",
       "  'TRBJ': 'TRBJ2-1*01',\n",
       "  'Reference': 'https://www.10xgenomics.com/resources/application-notes/a-new-way-of-exploring-immunity-linking-highly-multiplexed-antigen-recognition-to-immune-repertoire-and-phenotype/#',\n",
       "  'Database': 'VDJdb'}}"
      ]
     },
     "execution_count": 15,
     "metadata": {},
     "output_type": "execute_result"
    }
   ],
   "source": [
    "records[0]"
   ]
  },
  {
   "cell_type": "code",
   "execution_count": 16,
   "metadata": {},
   "outputs": [],
   "source": [
    "# pinecone client\n",
    "pc = Pinecone(api_key=os.environ[\"PINECONE_API_KEY\"])\n",
    "pc_index = pc.Index(\"tcrs\")"
   ]
  },
  {
   "cell_type": "code",
   "execution_count": 17,
   "metadata": {},
   "outputs": [
    {
     "name": "stderr",
     "output_type": "stream",
     "text": [
      "100%|██████████| 341/341 [01:34<00:00,  3.62it/s]\n"
     ]
    }
   ],
   "source": [
    "upsert_to_index(pc_index, records)"
   ]
  },
  {
   "cell_type": "code",
   "execution_count": 22,
   "metadata": {},
   "outputs": [
    {
     "name": "stdout",
     "output_type": "stream",
     "text": [
      "{'dimension': 320,\n",
      " 'index_fullness': 0.0,\n",
      " 'namespaces': {'': {'vector_count': 34099}},\n",
      " 'total_vector_count': 34099}\n"
     ]
    }
   ],
   "source": [
    "print(pc_index.describe_index_stats())"
   ]
  },
  {
   "cell_type": "code",
   "execution_count": 19,
   "metadata": {},
   "outputs": [],
   "source": [
    "import pickle"
   ]
  },
  {
   "cell_type": "code",
   "execution_count": 20,
   "metadata": {},
   "outputs": [],
   "source": [
    "# save embeddings for evaluation\n",
    "with open(\"data/tcr_embeddings.pkl\", \"wb\") as f:\n",
    "    pickle.dump(embeddings, f)"
   ]
  },
  {
   "cell_type": "code",
   "execution_count": 21,
   "metadata": {},
   "outputs": [],
   "source": [
    "# save dataframe for evaluation\n",
    "tcrs.to_parquet(\"data/tcrs_final.parquet\")"
   ]
  },
  {
   "cell_type": "code",
   "execution_count": null,
   "metadata": {},
   "outputs": [],
   "source": []
  }
 ],
 "metadata": {
  "kernelspec": {
   "display_name": "ml",
   "language": "python",
   "name": "python3"
  },
  "language_info": {
   "codemirror_mode": {
    "name": "ipython",
    "version": 3
   },
   "file_extension": ".py",
   "mimetype": "text/x-python",
   "name": "python",
   "nbconvert_exporter": "python",
   "pygments_lexer": "ipython3",
   "version": "3.11.9"
  },
  "orig_nbformat": 4
 },
 "nbformat": 4,
 "nbformat_minor": 2
}
