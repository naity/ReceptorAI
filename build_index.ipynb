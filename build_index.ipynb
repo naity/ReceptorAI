{
 "cells": [
  {
   "cell_type": "code",
   "execution_count": 1,
   "metadata": {},
   "outputs": [],
   "source": [
    "import os\n",
    "import pandas as pd\n",
    "import numpy as np\n",
    "import uuid\n",
    "\n",
    "from utils.funcs import get_model, get_embeddings, upsert_to_index\n",
    "from tqdm.autonotebook import tqdm\n",
    "from pinecone import Pinecone"
   ]
  },
  {
   "cell_type": "code",
   "execution_count": 2,
   "metadata": {},
   "outputs": [
    {
     "name": "stdout",
     "output_type": "stream",
     "text": [
      "(48540, 9)\n"
     ]
    },
    {
     "data": {
      "text/html": [
       "<div>\n",
       "<style scoped>\n",
       "    .dataframe tbody tr th:only-of-type {\n",
       "        vertical-align: middle;\n",
       "    }\n",
       "\n",
       "    .dataframe tbody tr th {\n",
       "        vertical-align: top;\n",
       "    }\n",
       "\n",
       "    .dataframe thead th {\n",
       "        text-align: right;\n",
       "    }\n",
       "</style>\n",
       "<table border=\"1\" class=\"dataframe\">\n",
       "  <thead>\n",
       "    <tr style=\"text-align: right;\">\n",
       "      <th></th>\n",
       "      <th>Species</th>\n",
       "      <th>Antigen Epitope</th>\n",
       "      <th>Antigen Protein</th>\n",
       "      <th>Antigen Source</th>\n",
       "      <th>CDR3.beta.aa</th>\n",
       "      <th>TRBV</th>\n",
       "      <th>TRBJ</th>\n",
       "      <th>Reference</th>\n",
       "      <th>Database</th>\n",
       "    </tr>\n",
       "  </thead>\n",
       "  <tbody>\n",
       "    <tr>\n",
       "      <th>0</th>\n",
       "      <td>Mouse</td>\n",
       "      <td>IKAVYNFATCG</td>\n",
       "      <td>Pre-glycoprotein polyprotein GP complex</td>\n",
       "      <td>LCMV</td>\n",
       "      <td>CASSDAGANTEVF</td>\n",
       "      <td>TRBV8-1</td>\n",
       "      <td>TRBJ1-1</td>\n",
       "      <td>PMID:1716213</td>\n",
       "      <td>McPAS-TCR</td>\n",
       "    </tr>\n",
       "    <tr>\n",
       "      <th>1</th>\n",
       "      <td>Mouse</td>\n",
       "      <td>IKAVYNFATCG</td>\n",
       "      <td>Pre-glycoprotein polyprotein GP complex</td>\n",
       "      <td>LCMV</td>\n",
       "      <td>CASSDAGAYAEQF</td>\n",
       "      <td>TRBV8-1</td>\n",
       "      <td>TRBJ2-1</td>\n",
       "      <td>PMID:1716213</td>\n",
       "      <td>McPAS-TCR</td>\n",
       "    </tr>\n",
       "    <tr>\n",
       "      <th>2</th>\n",
       "      <td>Mouse</td>\n",
       "      <td>IKAVYNFATCG</td>\n",
       "      <td>Pre-glycoprotein polyprotein GP complex</td>\n",
       "      <td>LCMV</td>\n",
       "      <td>CASSDAGGAAEVF</td>\n",
       "      <td>TRBV8-3</td>\n",
       "      <td>TRBJ1-1</td>\n",
       "      <td>PMID:1716213</td>\n",
       "      <td>McPAS-TCR</td>\n",
       "    </tr>\n",
       "    <tr>\n",
       "      <th>3</th>\n",
       "      <td>Mouse</td>\n",
       "      <td>IKAVYNFATCG</td>\n",
       "      <td>Pre-glycoprotein polyprotein GP complex</td>\n",
       "      <td>LCMV</td>\n",
       "      <td>CASSDAGHSPLYF</td>\n",
       "      <td>TRBV8-1</td>\n",
       "      <td>TRBJ1-6</td>\n",
       "      <td>PMID:1716213</td>\n",
       "      <td>McPAS-TCR</td>\n",
       "    </tr>\n",
       "    <tr>\n",
       "      <th>4</th>\n",
       "      <td>Mouse</td>\n",
       "      <td>IKAVYNFATCG</td>\n",
       "      <td>Pre-glycoprotein polyprotein GP complex</td>\n",
       "      <td>LCMV</td>\n",
       "      <td>CASSDAWGGAEQYF</td>\n",
       "      <td>TRBV8-3</td>\n",
       "      <td>TRBJ2-6</td>\n",
       "      <td>PMID:1716213</td>\n",
       "      <td>McPAS-TCR</td>\n",
       "    </tr>\n",
       "  </tbody>\n",
       "</table>\n",
       "</div>"
      ],
      "text/plain": [
       "  Species Antigen Epitope                          Antigen Protein  \\\n",
       "0   Mouse     IKAVYNFATCG  Pre-glycoprotein polyprotein GP complex   \n",
       "1   Mouse     IKAVYNFATCG  Pre-glycoprotein polyprotein GP complex   \n",
       "2   Mouse     IKAVYNFATCG  Pre-glycoprotein polyprotein GP complex   \n",
       "3   Mouse     IKAVYNFATCG  Pre-glycoprotein polyprotein GP complex   \n",
       "4   Mouse     IKAVYNFATCG  Pre-glycoprotein polyprotein GP complex   \n",
       "\n",
       "  Antigen Source    CDR3.beta.aa     TRBV     TRBJ     Reference   Database  \n",
       "0           LCMV   CASSDAGANTEVF  TRBV8-1  TRBJ1-1  PMID:1716213  McPAS-TCR  \n",
       "1           LCMV   CASSDAGAYAEQF  TRBV8-1  TRBJ2-1  PMID:1716213  McPAS-TCR  \n",
       "2           LCMV   CASSDAGGAAEVF  TRBV8-3  TRBJ1-1  PMID:1716213  McPAS-TCR  \n",
       "3           LCMV   CASSDAGHSPLYF  TRBV8-1  TRBJ1-6  PMID:1716213  McPAS-TCR  \n",
       "4           LCMV  CASSDAWGGAEQYF  TRBV8-3  TRBJ2-6  PMID:1716213  McPAS-TCR  "
      ]
     },
     "execution_count": 2,
     "metadata": {},
     "output_type": "execute_result"
    }
   ],
   "source": [
    "tcrs = pd.read_parquet(\"data/antigen_specific_tcrs.parquet\")\n",
    "print(tcrs.shape)\n",
    "tcrs.head()"
   ]
  },
  {
   "cell_type": "code",
   "execution_count": 3,
   "metadata": {},
   "outputs": [
    {
     "data": {
      "text/plain": [
       "38"
      ]
     },
     "execution_count": 3,
     "metadata": {},
     "output_type": "execute_result"
    }
   ],
   "source": [
    "tcrs[\"CDR3.beta.aa\"].str.len().max()"
   ]
  },
  {
   "cell_type": "code",
   "execution_count": 4,
   "metadata": {},
   "outputs": [
    {
     "data": {
      "text/plain": [
       "False"
      ]
     },
     "execution_count": 4,
     "metadata": {},
     "output_type": "execute_result"
    }
   ],
   "source": [
    "tcrs[\"CDR3.beta.aa\"].duplicated().any()"
   ]
  },
  {
   "cell_type": "code",
   "execution_count": 5,
   "metadata": {},
   "outputs": [
    {
     "data": {
      "text/plain": [
       "Species\n",
       "Human    45750\n",
       "Mouse     2790\n",
       "Name: count, dtype: int64"
      ]
     },
     "execution_count": 5,
     "metadata": {},
     "output_type": "execute_result"
    }
   ],
   "source": [
    "tcrs[\"Species\"].value_counts()"
   ]
  },
  {
   "cell_type": "code",
   "execution_count": 6,
   "metadata": {},
   "outputs": [
    {
     "data": {
      "text/plain": [
       "Antigen Source\n",
       "CMV           19441\n",
       "SARS-CoV-2     5000\n",
       "Influenza      4226\n",
       "EBV            4104\n",
       "InfluenzaA     3585\n",
       "Name: count, dtype: int64"
      ]
     },
     "execution_count": 6,
     "metadata": {},
     "output_type": "execute_result"
    }
   ],
   "source": [
    "tcrs[\"Antigen Source\"].value_counts()[:5]"
   ]
  },
  {
   "cell_type": "code",
   "execution_count": 7,
   "metadata": {},
   "outputs": [
    {
     "data": {
      "text/plain": [
       "Antigen Epitope\n",
       "KLGGALQAK         12093\n",
       "NLVPMVATV          4885\n",
       "GILGFVFTL          3799\n",
       "LPRRSGAAGA         1933\n",
       "ELAGIGILTV         1401\n",
       "GLCTLVAML          1329\n",
       "AVFDRKSDAK          997\n",
       "YLQPRTFLL           886\n",
       "TFEYVSQPFLMDLE      779\n",
       "LLWNGPMAV           775\n",
       "Name: count, dtype: int64"
      ]
     },
     "execution_count": 7,
     "metadata": {},
     "output_type": "execute_result"
    }
   ],
   "source": [
    "tcrs[\"Antigen Epitope\"].value_counts()[:10]"
   ]
  },
  {
   "cell_type": "code",
   "execution_count": 8,
   "metadata": {},
   "outputs": [
    {
     "data": {
      "text/plain": [
       "112"
      ]
     },
     "execution_count": 8,
     "metadata": {},
     "output_type": "execute_result"
    }
   ],
   "source": [
    "tcrs[\"Antigen Source\"].nunique()"
   ]
  },
  {
   "cell_type": "code",
   "execution_count": 9,
   "metadata": {},
   "outputs": [
    {
     "data": {
      "text/plain": [
       "1274"
      ]
     },
     "execution_count": 9,
     "metadata": {},
     "output_type": "execute_result"
    }
   ],
   "source": [
    "tcrs[\"Antigen Epitope\"].nunique()"
   ]
  },
  {
   "cell_type": "code",
   "execution_count": 10,
   "metadata": {},
   "outputs": [
    {
     "name": "stdout",
     "output_type": "stream",
     "text": [
      "(41447, 9)\n"
     ]
    },
    {
     "data": {
      "text/html": [
       "<div>\n",
       "<style scoped>\n",
       "    .dataframe tbody tr th:only-of-type {\n",
       "        vertical-align: middle;\n",
       "    }\n",
       "\n",
       "    .dataframe tbody tr th {\n",
       "        vertical-align: top;\n",
       "    }\n",
       "\n",
       "    .dataframe thead th {\n",
       "        text-align: right;\n",
       "    }\n",
       "</style>\n",
       "<table border=\"1\" class=\"dataframe\">\n",
       "  <thead>\n",
       "    <tr style=\"text-align: right;\">\n",
       "      <th></th>\n",
       "      <th>Species</th>\n",
       "      <th>Antigen Epitope</th>\n",
       "      <th>Antigen Protein</th>\n",
       "      <th>Antigen Source</th>\n",
       "      <th>CDR3.beta.aa</th>\n",
       "      <th>TRBV</th>\n",
       "      <th>TRBJ</th>\n",
       "      <th>Reference</th>\n",
       "      <th>Database</th>\n",
       "    </tr>\n",
       "  </thead>\n",
       "  <tbody>\n",
       "    <tr>\n",
       "      <th>0</th>\n",
       "      <td>Human</td>\n",
       "      <td>KLGGALQAK</td>\n",
       "      <td>IE1</td>\n",
       "      <td>CMV</td>\n",
       "      <td>CASTPGLALNNEQFF</td>\n",
       "      <td>TRBV19*01</td>\n",
       "      <td>TRBJ2-1*01</td>\n",
       "      <td>https://www.10xgenomics.com/resources/applicat...</td>\n",
       "      <td>VDJdb</td>\n",
       "    </tr>\n",
       "    <tr>\n",
       "      <th>1</th>\n",
       "      <td>Human</td>\n",
       "      <td>KLGGALQAK</td>\n",
       "      <td>IE1</td>\n",
       "      <td>CMV</td>\n",
       "      <td>CSARGLSSYEQYF</td>\n",
       "      <td>TRBV20-1*01</td>\n",
       "      <td>TRBJ2-7*01</td>\n",
       "      <td>https://www.10xgenomics.com/resources/applicat...</td>\n",
       "      <td>VDJdb</td>\n",
       "    </tr>\n",
       "    <tr>\n",
       "      <th>2</th>\n",
       "      <td>Human</td>\n",
       "      <td>KLGGALQAK</td>\n",
       "      <td>IE1</td>\n",
       "      <td>CMV</td>\n",
       "      <td>CASSSMLTEKLFF</td>\n",
       "      <td>TRBV11-2*01</td>\n",
       "      <td>TRBJ1-4*01</td>\n",
       "      <td>https://www.10xgenomics.com/resources/applicat...</td>\n",
       "      <td>VDJdb</td>\n",
       "    </tr>\n",
       "    <tr>\n",
       "      <th>3</th>\n",
       "      <td>Human</td>\n",
       "      <td>KLGGALQAK</td>\n",
       "      <td>IE1</td>\n",
       "      <td>CMV</td>\n",
       "      <td>CASSVEGTQYF</td>\n",
       "      <td>TRBV9*01</td>\n",
       "      <td>TRBJ2-3*01</td>\n",
       "      <td>https://www.10xgenomics.com/resources/applicat...</td>\n",
       "      <td>VDJdb</td>\n",
       "    </tr>\n",
       "    <tr>\n",
       "      <th>4</th>\n",
       "      <td>Human</td>\n",
       "      <td>KLGGALQAK</td>\n",
       "      <td>IE1</td>\n",
       "      <td>CMV</td>\n",
       "      <td>CASSLSAGGHFYEQYF</td>\n",
       "      <td>TRBV27*01</td>\n",
       "      <td>TRBJ2-7*01</td>\n",
       "      <td>https://www.10xgenomics.com/resources/applicat...</td>\n",
       "      <td>VDJdb</td>\n",
       "    </tr>\n",
       "  </tbody>\n",
       "</table>\n",
       "</div>"
      ],
      "text/plain": [
       "  Species Antigen Epitope Antigen Protein Antigen Source      CDR3.beta.aa  \\\n",
       "0   Human       KLGGALQAK             IE1            CMV   CASTPGLALNNEQFF   \n",
       "1   Human       KLGGALQAK             IE1            CMV     CSARGLSSYEQYF   \n",
       "2   Human       KLGGALQAK             IE1            CMV     CASSSMLTEKLFF   \n",
       "3   Human       KLGGALQAK             IE1            CMV       CASSVEGTQYF   \n",
       "4   Human       KLGGALQAK             IE1            CMV  CASSLSAGGHFYEQYF   \n",
       "\n",
       "          TRBV        TRBJ                                          Reference  \\\n",
       "0    TRBV19*01  TRBJ2-1*01  https://www.10xgenomics.com/resources/applicat...   \n",
       "1  TRBV20-1*01  TRBJ2-7*01  https://www.10xgenomics.com/resources/applicat...   \n",
       "2  TRBV11-2*01  TRBJ1-4*01  https://www.10xgenomics.com/resources/applicat...   \n",
       "3     TRBV9*01  TRBJ2-3*01  https://www.10xgenomics.com/resources/applicat...   \n",
       "4    TRBV27*01  TRBJ2-7*01  https://www.10xgenomics.com/resources/applicat...   \n",
       "\n",
       "  Database  \n",
       "0    VDJdb  \n",
       "1    VDJdb  \n",
       "2    VDJdb  \n",
       "3    VDJdb  \n",
       "4    VDJdb  "
      ]
     },
     "execution_count": 10,
     "metadata": {},
     "output_type": "execute_result"
    }
   ],
   "source": [
    "# downsample KLGGALQAK TCRs\n",
    "tcrs_klg = tcrs.loc[tcrs[\"Antigen Epitope\"] == \"KLGGALQAK\"]\n",
    "tcrs_other = tcrs.loc[tcrs[\"Antigen Epitope\"] != \"KLGGALQAK\"]\n",
    "\n",
    "tcrs_klg = tcrs_klg.sample(n=5000, random_state=0)\n",
    "tcrs = pd.concat([tcrs_klg, tcrs_other], ignore_index=True)\n",
    "# shuffle\n",
    "tcrs.sample(frac=1, random_state=0)\n",
    "print(tcrs.shape)\n",
    "tcrs.head()"
   ]
  },
  {
   "cell_type": "code",
   "execution_count": 11,
   "metadata": {},
   "outputs": [
    {
     "data": {
      "text/plain": [
       "Antigen Epitope\n",
       "KLGGALQAK         5000\n",
       "NLVPMVATV         4885\n",
       "GILGFVFTL         3799\n",
       "LPRRSGAAGA        1933\n",
       "ELAGIGILTV        1401\n",
       "GLCTLVAML         1329\n",
       "AVFDRKSDAK         997\n",
       "YLQPRTFLL          886\n",
       "TFEYVSQPFLMDLE     779\n",
       "LLWNGPMAV          775\n",
       "Name: count, dtype: int64"
      ]
     },
     "execution_count": 11,
     "metadata": {},
     "output_type": "execute_result"
    }
   ],
   "source": [
    "tcrs[\"Antigen Epitope\"].value_counts()[:10]"
   ]
  },
  {
   "cell_type": "code",
   "execution_count": 12,
   "metadata": {},
   "outputs": [
    {
     "data": {
      "text/plain": [
       "'https://www.10xgenomics.com/resources/application-notes/a-new-way-of-exploring-immunity-linking-highly-multiplexed-antigen-recognition-to-immune-repertoire-and-phenotype/#'"
      ]
     },
     "execution_count": 12,
     "metadata": {},
     "output_type": "execute_result"
    }
   ],
   "source": [
    "pubmed_base_url = \"https://pubmed.ncbi.nlm.nih.gov/\"\n",
    "\n",
    "\n",
    "# pubmed link\n",
    "def format_link(s):\n",
    "    if s.startswith(\"PMID:\"):\n",
    "        return s.replace(\"PMID:\", pubmed_base_url)\n",
    "    return s\n",
    "\n",
    "\n",
    "tcrs[\"Reference\"] = tcrs[\"Reference\"].map(format_link)\n",
    "tcrs[\"Reference\"].iloc[0]"
   ]
  },
  {
   "cell_type": "code",
   "execution_count": 13,
   "metadata": {},
   "outputs": [
    {
     "data": {
      "text/plain": [
       "Antigen Epitope\n",
       "KLGGALQAK    5000\n",
       "NLVPMVATV    4885\n",
       "GILGFVFTL    3799\n",
       "Name: count, dtype: int64"
      ]
     },
     "execution_count": 13,
     "metadata": {},
     "output_type": "execute_result"
    }
   ],
   "source": [
    "# build a validation set from epitopes with more than threshold\n",
    "tcrs_val = tcrs.groupby(\"Antigen Epitope\").filter(lambda x: len(x) > 2000)\n",
    "tcrs_val[\"Antigen Epitope\"].value_counts()"
   ]
  },
  {
   "cell_type": "code",
   "execution_count": 14,
   "metadata": {},
   "outputs": [
    {
     "data": {
      "text/html": [
       "<div>\n",
       "<style scoped>\n",
       "    .dataframe tbody tr th:only-of-type {\n",
       "        vertical-align: middle;\n",
       "    }\n",
       "\n",
       "    .dataframe tbody tr th {\n",
       "        vertical-align: top;\n",
       "    }\n",
       "\n",
       "    .dataframe thead th {\n",
       "        text-align: right;\n",
       "    }\n",
       "</style>\n",
       "<table border=\"1\" class=\"dataframe\">\n",
       "  <thead>\n",
       "    <tr style=\"text-align: right;\">\n",
       "      <th></th>\n",
       "      <th>Species</th>\n",
       "      <th>Antigen Epitope</th>\n",
       "      <th>Antigen Protein</th>\n",
       "      <th>Antigen Source</th>\n",
       "      <th>CDR3.beta.aa</th>\n",
       "      <th>TRBV</th>\n",
       "      <th>TRBJ</th>\n",
       "      <th>Reference</th>\n",
       "      <th>Database</th>\n",
       "    </tr>\n",
       "  </thead>\n",
       "  <tbody>\n",
       "    <tr>\n",
       "      <th>12529</th>\n",
       "      <td>Human</td>\n",
       "      <td>GILGFVFTL</td>\n",
       "      <td>Matrix protein (M1)</td>\n",
       "      <td>Influenza</td>\n",
       "      <td>CASSILGKDTQYF</td>\n",
       "      <td>TRBV19</td>\n",
       "      <td>TRBJ2-3</td>\n",
       "      <td>https://pubmed.ncbi.nlm.nih.gov/28423320</td>\n",
       "      <td>McPAS-TCR</td>\n",
       "    </tr>\n",
       "    <tr>\n",
       "      <th>22837</th>\n",
       "      <td>Human</td>\n",
       "      <td>GILGFVFTL</td>\n",
       "      <td>M</td>\n",
       "      <td>InfluenzaA</td>\n",
       "      <td>CASSLLGFSDGGTGELFF</td>\n",
       "      <td>TRBV5-4*01</td>\n",
       "      <td>TRBJ2-2*01</td>\n",
       "      <td>https://pubmed.ncbi.nlm.nih.gov/28423320</td>\n",
       "      <td>VDJdb</td>\n",
       "    </tr>\n",
       "    <tr>\n",
       "      <th>12860</th>\n",
       "      <td>Human</td>\n",
       "      <td>GILGFVFTL</td>\n",
       "      <td>Matrix protein (M1)</td>\n",
       "      <td>Influenza</td>\n",
       "      <td>CAISDLSITGGDNYGYTF</td>\n",
       "      <td>TRBV1-1</td>\n",
       "      <td>TRBJ1-2:01</td>\n",
       "      <td>https://pubmed.ncbi.nlm.nih.gov/28300170</td>\n",
       "      <td>McPAS-TCR</td>\n",
       "    </tr>\n",
       "    <tr>\n",
       "      <th>23099</th>\n",
       "      <td>Human</td>\n",
       "      <td>GILGFVFTL</td>\n",
       "      <td>M</td>\n",
       "      <td>InfluenzaA</td>\n",
       "      <td>CASSERRQGLGNQPQHF</td>\n",
       "      <td>TRBV10-1*01</td>\n",
       "      <td>TRBJ1-5*01</td>\n",
       "      <td>https://pubmed.ncbi.nlm.nih.gov/28423320</td>\n",
       "      <td>VDJdb</td>\n",
       "    </tr>\n",
       "    <tr>\n",
       "      <th>23717</th>\n",
       "      <td>Human</td>\n",
       "      <td>GILGFVFTL</td>\n",
       "      <td>M</td>\n",
       "      <td>InfluenzaA</td>\n",
       "      <td>CASNRREHDEQFF</td>\n",
       "      <td>TRBV19*01</td>\n",
       "      <td>TRBJ2-1*01</td>\n",
       "      <td>https://pubmed.ncbi.nlm.nih.gov/28423320</td>\n",
       "      <td>VDJdb</td>\n",
       "    </tr>\n",
       "  </tbody>\n",
       "</table>\n",
       "</div>"
      ],
      "text/plain": [
       "      Species Antigen Epitope      Antigen Protein Antigen Source  \\\n",
       "12529   Human       GILGFVFTL  Matrix protein (M1)      Influenza   \n",
       "22837   Human       GILGFVFTL                    M     InfluenzaA   \n",
       "12860   Human       GILGFVFTL  Matrix protein (M1)      Influenza   \n",
       "23099   Human       GILGFVFTL                    M     InfluenzaA   \n",
       "23717   Human       GILGFVFTL                    M     InfluenzaA   \n",
       "\n",
       "             CDR3.beta.aa         TRBV        TRBJ  \\\n",
       "12529       CASSILGKDTQYF       TRBV19     TRBJ2-3   \n",
       "22837  CASSLLGFSDGGTGELFF   TRBV5-4*01  TRBJ2-2*01   \n",
       "12860  CAISDLSITGGDNYGYTF      TRBV1-1  TRBJ1-2:01   \n",
       "23099   CASSERRQGLGNQPQHF  TRBV10-1*01  TRBJ1-5*01   \n",
       "23717       CASNRREHDEQFF    TRBV19*01  TRBJ2-1*01   \n",
       "\n",
       "                                      Reference   Database  \n",
       "12529  https://pubmed.ncbi.nlm.nih.gov/28423320  McPAS-TCR  \n",
       "22837  https://pubmed.ncbi.nlm.nih.gov/28423320      VDJdb  \n",
       "12860  https://pubmed.ncbi.nlm.nih.gov/28300170  McPAS-TCR  \n",
       "23099  https://pubmed.ncbi.nlm.nih.gov/28423320      VDJdb  \n",
       "23717  https://pubmed.ncbi.nlm.nih.gov/28423320      VDJdb  "
      ]
     },
     "execution_count": 14,
     "metadata": {},
     "output_type": "execute_result"
    }
   ],
   "source": [
    "# downsample to TCRs per epitope\n",
    "tcrs_val = tcrs_val.groupby(\"Antigen Epitope\").sample(n=100, random_state=0)\n",
    "tcrs_val.head()"
   ]
  },
  {
   "cell_type": "code",
   "execution_count": 15,
   "metadata": {},
   "outputs": [
    {
     "data": {
      "text/plain": [
       "Antigen Epitope\n",
       "GILGFVFTL    100\n",
       "KLGGALQAK    100\n",
       "NLVPMVATV    100\n",
       "Name: count, dtype: int64"
      ]
     },
     "execution_count": 15,
     "metadata": {},
     "output_type": "execute_result"
    }
   ],
   "source": [
    "tcrs_val[\"Antigen Epitope\"].value_counts()"
   ]
  },
  {
   "cell_type": "code",
   "execution_count": 16,
   "metadata": {},
   "outputs": [
    {
     "name": "stdout",
     "output_type": "stream",
     "text": [
      "(41147, 9) (300, 9)\n"
     ]
    }
   ],
   "source": [
    "# need to remove validation set from training set\n",
    "tcrs = tcrs[~tcrs.index.isin(tcrs_val.index)]\n",
    "print(tcrs.shape, tcrs_val.shape)"
   ]
  },
  {
   "cell_type": "code",
   "execution_count": 17,
   "metadata": {},
   "outputs": [],
   "source": [
    "# reset index\n",
    "tcrs = tcrs.reset_index(drop=True)\n",
    "tcrs_val = tcrs_val.reset_index(drop=True)"
   ]
  },
  {
   "cell_type": "code",
   "execution_count": 18,
   "metadata": {},
   "outputs": [
    {
     "name": "stderr",
     "output_type": "stream",
     "text": [
      "2024-06-17 17:32:28.142 \n",
      "  \u001b[33m\u001b[1mWarning:\u001b[0m to view this Streamlit app on a browser, run it with the following\n",
      "  command:\n",
      "\n",
      "    streamlit run /home/ytian/anaconda3/envs/receptorgpt/lib/python3.11/site-packages/ipykernel_launcher.py [ARGUMENTS]\n",
      "Some weights of EsmModel were not initialized from the model checkpoint at facebook/esm2_t6_8M_UR50D and are newly initialized: ['esm.pooler.dense.bias', 'esm.pooler.dense.weight']\n",
      "You should probably TRAIN this model on a down-stream task to be able to use it for predictions and inference.\n"
     ]
    }
   ],
   "source": [
    "tokenizer, model = get_model(\"facebook/esm2_t6_8M_UR50D\")"
   ]
  },
  {
   "cell_type": "code",
   "execution_count": 19,
   "metadata": {},
   "outputs": [
    {
     "data": {
      "text/plain": [
       "['<eos>', '<unk>', '<pad>', '<cls>', '<mask>']"
      ]
     },
     "execution_count": 19,
     "metadata": {},
     "output_type": "execute_result"
    }
   ],
   "source": [
    "tokenizer.all_special_tokens"
   ]
  },
  {
   "cell_type": "code",
   "execution_count": 34,
   "metadata": {},
   "outputs": [
    {
     "data": {
      "application/vnd.jupyter.widget-view+json": {
       "model_id": "52025e98487b48808867bd959791ea37",
       "version_major": 2,
       "version_minor": 0
      },
      "text/plain": [
       "  0%|          | 0/412 [00:00<?, ?it/s]"
      ]
     },
     "metadata": {},
     "output_type": "display_data"
    },
    {
     "data": {
      "text/plain": [
       "(41147, 320)"
      ]
     },
     "execution_count": 34,
     "metadata": {},
     "output_type": "execute_result"
    }
   ],
   "source": [
    "embeddings = []\n",
    "batch_size = 100\n",
    "seqs = tcrs[\"CDR3.beta.aa\"].tolist()\n",
    "\n",
    "for i in tqdm(range(0, len(seqs), batch_size)):\n",
    "    embeds = get_embeddings(tokenizer, model, seqs[i : i + batch_size])\n",
    "    embeddings.append(embeds)\n",
    "\n",
    "embeddings = np.concatenate(embeddings, axis=0)\n",
    "embeddings.shape"
   ]
  },
  {
   "cell_type": "code",
   "execution_count": 21,
   "metadata": {},
   "outputs": [
    {
     "data": {
      "text/plain": [
       "41147"
      ]
     },
     "execution_count": 21,
     "metadata": {},
     "output_type": "execute_result"
    }
   ],
   "source": [
    "# convert to list\n",
    "embeddings = embeddings.tolist()\n",
    "len(embeddings)"
   ]
  },
  {
   "cell_type": "code",
   "execution_count": 22,
   "metadata": {},
   "outputs": [
    {
     "data": {
      "text/plain": [
       "[{'Species': 'Human',\n",
       "  'Antigen Epitope': 'KLGGALQAK',\n",
       "  'Antigen Protein': 'IE1',\n",
       "  'Antigen Source': 'CMV',\n",
       "  'CDR3.beta.aa': 'CASTPGLALNNEQFF',\n",
       "  'TRBV': 'TRBV19*01',\n",
       "  'TRBJ': 'TRBJ2-1*01',\n",
       "  'Reference': 'https://www.10xgenomics.com/resources/application-notes/a-new-way-of-exploring-immunity-linking-highly-multiplexed-antigen-recognition-to-immune-repertoire-and-phenotype/#',\n",
       "  'Database': 'VDJdb'}]"
      ]
     },
     "execution_count": 22,
     "metadata": {},
     "output_type": "execute_result"
    }
   ],
   "source": [
    "# prepare metadata\n",
    "metadatas = tcrs.to_dict(\"records\")\n",
    "metadatas[:1]"
   ]
  },
  {
   "cell_type": "code",
   "execution_count": 23,
   "metadata": {},
   "outputs": [],
   "source": [
    "# merge the three lists int a single list of dictionaries\n",
    "# use uuid to generate unique ids\n",
    "records = [\n",
    "    {\"id\": str(uuid.uuid4()), \"values\": e, \"metadata\": m}\n",
    "    for e, m in zip(embeddings, metadatas)\n",
    "]"
   ]
  },
  {
   "cell_type": "code",
   "execution_count": 24,
   "metadata": {},
   "outputs": [
    {
     "data": {
      "text/plain": [
       "41147"
      ]
     },
     "execution_count": 24,
     "metadata": {},
     "output_type": "execute_result"
    }
   ],
   "source": [
    "len(records)"
   ]
  },
  {
   "cell_type": "code",
   "execution_count": 25,
   "metadata": {},
   "outputs": [
    {
     "data": {
      "text/plain": [
       "{'id': '1584404c-461e-4d8f-a1c4-9e83ebefd075',\n",
       " 'values': [0.14121215045452118,\n",
       "  -0.3008734881877899,\n",
       "  0.2475678026676178,\n",
       "  0.08334764838218689,\n",
       "  -0.019711311906576157,\n",
       "  -0.12751878798007965,\n",
       "  -0.1914614886045456,\n",
       "  -0.02174030989408493,\n",
       "  -0.1290866732597351,\n",
       "  -0.1492486447095871,\n",
       "  -0.0704425498843193,\n",
       "  0.3020123243331909,\n",
       "  0.13828590512275696,\n",
       "  0.05327414721250534,\n",
       "  -0.22204852104187012,\n",
       "  0.08621577173471451,\n",
       "  0.0815887525677681,\n",
       "  -0.053235460072755814,\n",
       "  0.21515080332756042,\n",
       "  -0.1412162333726883,\n",
       "  -0.18838292360305786,\n",
       "  0.06571920216083527,\n",
       "  0.07026966661214828,\n",
       "  0.04556738957762718,\n",
       "  0.09365881234407425,\n",
       "  0.26238828897476196,\n",
       "  0.018247194588184357,\n",
       "  -0.07799090445041656,\n",
       "  0.13413658738136292,\n",
       "  -0.005087621044367552,\n",
       "  -0.005955008324235678,\n",
       "  -0.10034336894750595,\n",
       "  0.09907011687755585,\n",
       "  -0.25078582763671875,\n",
       "  0.07476787269115448,\n",
       "  -0.5109313726425171,\n",
       "  0.23566466569900513,\n",
       "  -0.08076376467943192,\n",
       "  0.3819611668586731,\n",
       "  0.14221638441085815,\n",
       "  -0.29946285486221313,\n",
       "  0.25250735878944397,\n",
       "  0.1174730509519577,\n",
       "  -0.05698705092072487,\n",
       "  -0.037900976836681366,\n",
       "  0.07543864101171494,\n",
       "  -1.424027681350708,\n",
       "  0.21726520359516144,\n",
       "  -0.14398829638957977,\n",
       "  -0.037819813936948776,\n",
       "  0.13319523632526398,\n",
       "  0.023541836068034172,\n",
       "  0.1929556429386139,\n",
       "  0.029683105647563934,\n",
       "  -0.17273221909999847,\n",
       "  -0.24244342744350433,\n",
       "  0.010239056311547756,\n",
       "  0.06903328001499176,\n",
       "  0.025511620566248894,\n",
       "  -0.18501737713813782,\n",
       "  -0.05586426705121994,\n",
       "  0.07587097585201263,\n",
       "  -5.194538593292236,\n",
       "  -0.07999634742736816,\n",
       "  -0.028497539460659027,\n",
       "  -0.0836448147892952,\n",
       "  -0.08936601132154465,\n",
       "  0.08841100335121155,\n",
       "  -0.1414545178413391,\n",
       "  0.14819784462451935,\n",
       "  -0.3174172043800354,\n",
       "  -0.005101642105728388,\n",
       "  -0.22850431501865387,\n",
       "  0.10691335052251816,\n",
       "  -0.04914027079939842,\n",
       "  0.1288742870092392,\n",
       "  -0.08094408363103867,\n",
       "  -0.08773519098758698,\n",
       "  0.014745251275599003,\n",
       "  0.20520645380020142,\n",
       "  0.2292368859052658,\n",
       "  -0.01260882243514061,\n",
       "  0.10540749877691269,\n",
       "  0.26115882396698,\n",
       "  -0.23288674652576447,\n",
       "  -0.2877098619937897,\n",
       "  0.04768150672316551,\n",
       "  0.10353337973356247,\n",
       "  0.12594734132289886,\n",
       "  0.02715262398123741,\n",
       "  0.006640786770731211,\n",
       "  0.08399397879838943,\n",
       "  0.04672597348690033,\n",
       "  0.1740006059408188,\n",
       "  -0.15530236065387726,\n",
       "  0.1909029185771942,\n",
       "  -0.02336191199719906,\n",
       "  0.30687153339385986,\n",
       "  -0.06985648721456528,\n",
       "  -0.32777780294418335,\n",
       "  -0.2024591714143753,\n",
       "  -0.021694157272577286,\n",
       "  0.04897281900048256,\n",
       "  -0.09088103473186493,\n",
       "  0.04827853664755821,\n",
       "  0.21685734391212463,\n",
       "  0.023328425362706184,\n",
       "  0.05050067603588104,\n",
       "  0.1521703451871872,\n",
       "  -0.15199360251426697,\n",
       "  -0.040539417415857315,\n",
       "  0.25019392371177673,\n",
       "  0.09148421138525009,\n",
       "  -0.01608068309724331,\n",
       "  0.13346144556999207,\n",
       "  0.3097647428512573,\n",
       "  -0.05946509912610054,\n",
       "  0.013077317737042904,\n",
       "  -0.35161447525024414,\n",
       "  0.09140831977128983,\n",
       "  0.11718298494815826,\n",
       "  0.06007213890552521,\n",
       "  0.017395636066794395,\n",
       "  0.0195235013961792,\n",
       "  -0.022907916456460953,\n",
       "  -0.19163160026073456,\n",
       "  -0.00887903943657875,\n",
       "  -0.05924052745103836,\n",
       "  -0.14126907289028168,\n",
       "  -0.07825936377048492,\n",
       "  -0.028576241806149483,\n",
       "  -0.08131645619869232,\n",
       "  0.25054845213890076,\n",
       "  0.03897881880402565,\n",
       "  0.026816021651029587,\n",
       "  0.104063980281353,\n",
       "  -0.12715160846710205,\n",
       "  -0.06471390277147293,\n",
       "  -0.1318158358335495,\n",
       "  -0.09767983108758926,\n",
       "  0.3143819272518158,\n",
       "  -0.13937975466251373,\n",
       "  -0.02155546471476555,\n",
       "  0.05684494599699974,\n",
       "  -0.15952080488204956,\n",
       "  0.021495623514056206,\n",
       "  0.037172794342041016,\n",
       "  -0.05202998220920563,\n",
       "  -0.18338878452777863,\n",
       "  -0.02731662429869175,\n",
       "  -0.20537200570106506,\n",
       "  -0.14827045798301697,\n",
       "  0.03489898145198822,\n",
       "  -0.3685382306575775,\n",
       "  0.1333705484867096,\n",
       "  -0.2071186751127243,\n",
       "  0.034677572548389435,\n",
       "  0.0949099212884903,\n",
       "  0.015035971067845821,\n",
       "  0.3477858006954193,\n",
       "  -0.06172223389148712,\n",
       "  -0.1389913111925125,\n",
       "  0.09839537739753723,\n",
       "  -0.05040533468127251,\n",
       "  -0.07111847400665283,\n",
       "  -0.07949413359165192,\n",
       "  -0.15989336371421814,\n",
       "  -0.14609165489673615,\n",
       "  0.04395810887217522,\n",
       "  0.04749222844839096,\n",
       "  0.1463615745306015,\n",
       "  0.17460036277770996,\n",
       "  -0.06664219498634338,\n",
       "  0.13080938160419464,\n",
       "  0.09556033462285995,\n",
       "  0.2231188416481018,\n",
       "  0.23018810153007507,\n",
       "  -0.1264374703168869,\n",
       "  -0.08280753344297409,\n",
       "  -0.22184258699417114,\n",
       "  0.07232566922903061,\n",
       "  -0.4136911630630493,\n",
       "  0.032087668776512146,\n",
       "  -0.042930591851472855,\n",
       "  0.09259823709726334,\n",
       "  -0.03766653686761856,\n",
       "  -0.3865637183189392,\n",
       "  0.3477197587490082,\n",
       "  -0.1366729438304901,\n",
       "  -0.13449496030807495,\n",
       "  -0.1849818378686905,\n",
       "  0.2630845606327057,\n",
       "  0.6399589776992798,\n",
       "  0.19498905539512634,\n",
       "  0.21195095777511597,\n",
       "  0.07726243883371353,\n",
       "  -0.11030253022909164,\n",
       "  0.05728597566485405,\n",
       "  0.13381439447402954,\n",
       "  0.22830741107463837,\n",
       "  -0.034556128084659576,\n",
       "  0.2258787453174591,\n",
       "  0.3184190094470978,\n",
       "  0.18965068459510803,\n",
       "  0.04829936847090721,\n",
       "  -0.08232853561639786,\n",
       "  -0.0971880629658699,\n",
       "  -0.23537765443325043,\n",
       "  -0.03449355065822601,\n",
       "  0.44447240233421326,\n",
       "  -0.03730088472366333,\n",
       "  0.0008733838913030922,\n",
       "  -0.13462303578853607,\n",
       "  0.21912789344787598,\n",
       "  -0.08512118458747864,\n",
       "  0.21410179138183594,\n",
       "  -0.06708844751119614,\n",
       "  -0.017119355499744415,\n",
       "  -0.11687561124563217,\n",
       "  -0.07957824319601059,\n",
       "  -0.41900336742401123,\n",
       "  -0.18787068128585815,\n",
       "  0.3826470673084259,\n",
       "  0.022771291434764862,\n",
       "  -0.060986101627349854,\n",
       "  -0.04084654524922371,\n",
       "  -0.0668511614203453,\n",
       "  0.0310775525867939,\n",
       "  -0.1593625843524933,\n",
       "  0.042227912694215775,\n",
       "  -0.028306681662797928,\n",
       "  -0.03606230020523071,\n",
       "  0.18870142102241516,\n",
       "  -0.014363856054842472,\n",
       "  0.18436826765537262,\n",
       "  0.1860390305519104,\n",
       "  0.19743795692920685,\n",
       "  -0.061338551342487335,\n",
       "  0.23696210980415344,\n",
       "  -0.03450355306267738,\n",
       "  -0.10327600687742233,\n",
       "  -0.07528484612703323,\n",
       "  -0.054401200264692307,\n",
       "  0.1020212471485138,\n",
       "  -0.1706508994102478,\n",
       "  0.004846878815442324,\n",
       "  0.3181733787059784,\n",
       "  0.397697776556015,\n",
       "  0.16060495376586914,\n",
       "  0.24868431687355042,\n",
       "  -0.05984993278980255,\n",
       "  0.07026631385087967,\n",
       "  -0.13535292446613312,\n",
       "  -0.19670811295509338,\n",
       "  -0.3091319501399994,\n",
       "  -0.035732027143239975,\n",
       "  -0.19602128863334656,\n",
       "  -0.12005413323640823,\n",
       "  0.3113793134689331,\n",
       "  -0.2288452684879303,\n",
       "  0.009564131498336792,\n",
       "  0.11192100495100021,\n",
       "  -0.07626338303089142,\n",
       "  0.08988498896360397,\n",
       "  -0.01981591433286667,\n",
       "  0.06095653027296066,\n",
       "  -0.031248565763235092,\n",
       "  -0.10329766571521759,\n",
       "  0.2223270684480667,\n",
       "  0.0772705078125,\n",
       "  0.08586440235376358,\n",
       "  0.22106267511844635,\n",
       "  0.3255963623523712,\n",
       "  0.22549466788768768,\n",
       "  -0.05751423537731171,\n",
       "  -0.20155121386051178,\n",
       "  0.003905084216967225,\n",
       "  0.21033306419849396,\n",
       "  0.0815238505601883,\n",
       "  0.25875094532966614,\n",
       "  -0.014386712573468685,\n",
       "  -0.14899565279483795,\n",
       "  0.12740491330623627,\n",
       "  0.14365363121032715,\n",
       "  0.14417453110218048,\n",
       "  0.20430399477481842,\n",
       "  -0.16340507566928864,\n",
       "  -0.005743122193962336,\n",
       "  -0.10037004947662354,\n",
       "  -0.21247714757919312,\n",
       "  -0.018823634833097458,\n",
       "  -0.16518017649650574,\n",
       "  0.5213071703910828,\n",
       "  0.13786692917346954,\n",
       "  0.006933144759386778,\n",
       "  -0.14119485020637512,\n",
       "  -0.10215424001216888,\n",
       "  -0.028707610443234444,\n",
       "  -0.40796205401420593,\n",
       "  0.1725122034549713,\n",
       "  0.011970004066824913,\n",
       "  -0.12979662418365479,\n",
       "  -0.19797754287719727,\n",
       "  0.30917516350746155,\n",
       "  -0.10183259099721909,\n",
       "  -0.18264129757881165,\n",
       "  -0.09108633548021317,\n",
       "  -0.060825299471616745,\n",
       "  -0.19287462532520294,\n",
       "  0.12633737921714783,\n",
       "  0.13948607444763184,\n",
       "  -0.059646617621183395,\n",
       "  0.30796825885772705,\n",
       "  0.10200850665569305,\n",
       "  -0.09153105318546295,\n",
       "  0.11387026309967041,\n",
       "  -0.04766608402132988,\n",
       "  -0.013718649744987488,\n",
       "  0.2009699046611786,\n",
       "  0.025098588317632675],\n",
       " 'metadata': {'Species': 'Human',\n",
       "  'Antigen Epitope': 'KLGGALQAK',\n",
       "  'Antigen Protein': 'IE1',\n",
       "  'Antigen Source': 'CMV',\n",
       "  'CDR3.beta.aa': 'CASTPGLALNNEQFF',\n",
       "  'TRBV': 'TRBV19*01',\n",
       "  'TRBJ': 'TRBJ2-1*01',\n",
       "  'Reference': 'https://www.10xgenomics.com/resources/application-notes/a-new-way-of-exploring-immunity-linking-highly-multiplexed-antigen-recognition-to-immune-repertoire-and-phenotype/#',\n",
       "  'Database': 'VDJdb'}}"
      ]
     },
     "execution_count": 25,
     "metadata": {},
     "output_type": "execute_result"
    }
   ],
   "source": [
    "records[0]"
   ]
  },
  {
   "cell_type": "code",
   "execution_count": 26,
   "metadata": {},
   "outputs": [],
   "source": [
    "# pinecone client\n",
    "pc = Pinecone(api_key=os.environ[\"PINECONE_API_KEY\"])\n",
    "pc_index = pc.Index(\"tcrs\")"
   ]
  },
  {
   "cell_type": "code",
   "execution_count": 27,
   "metadata": {},
   "outputs": [
    {
     "name": "stderr",
     "output_type": "stream",
     "text": [
      "100%|██████████| 412/412 [02:06<00:00,  3.27it/s]\n"
     ]
    }
   ],
   "source": [
    "upsert_to_index(pc_index, records)"
   ]
  },
  {
   "cell_type": "code",
   "execution_count": 28,
   "metadata": {},
   "outputs": [
    {
     "name": "stdout",
     "output_type": "stream",
     "text": [
      "{'dimension': 320,\n",
      " 'index_fullness': 0.0,\n",
      " 'namespaces': {'': {'vector_count': 42600}},\n",
      " 'total_vector_count': 42600}\n"
     ]
    }
   ],
   "source": [
    "print(pc_index.describe_index_stats())"
   ]
  },
  {
   "cell_type": "code",
   "execution_count": 29,
   "metadata": {},
   "outputs": [],
   "source": [
    "import pickle"
   ]
  },
  {
   "cell_type": "code",
   "execution_count": 36,
   "metadata": {},
   "outputs": [],
   "source": [
    "# save embeddings for evaluation\n",
    "with open(\"data/tcr_embeddings.pkl\", \"wb\") as f:\n",
    "    pickle.dump(np.array(embeddings), f)"
   ]
  },
  {
   "cell_type": "code",
   "execution_count": 31,
   "metadata": {},
   "outputs": [],
   "source": [
    "# save dataframe for evaluation\n",
    "tcrs.to_parquet(\"data/tcrs_final.parquet\")\n",
    "tcrs_val.to_parquet(\"data/tcrs_val.parquet\")"
   ]
  },
  {
   "cell_type": "code",
   "execution_count": 32,
   "metadata": {},
   "outputs": [
    {
     "data": {
      "application/vnd.jupyter.widget-view+json": {
       "model_id": "c6e69eb505f246fc9118bdfd1cb8b858",
       "version_major": 2,
       "version_minor": 0
      },
      "text/plain": [
       "  0%|          | 0/3 [00:00<?, ?it/s]"
      ]
     },
     "metadata": {},
     "output_type": "display_data"
    },
    {
     "data": {
      "text/plain": [
       "(300, 320)"
      ]
     },
     "execution_count": 32,
     "metadata": {},
     "output_type": "execute_result"
    }
   ],
   "source": [
    "# embed validation set\n",
    "seqs = tcrs_val[\"CDR3.beta.aa\"].tolist()\n",
    "embeddings = []\n",
    "for i in tqdm(range(0, len(seqs), batch_size)):\n",
    "    embeds = get_embeddings(tokenizer, model, seqs[i : i + batch_size])\n",
    "    embeddings.append(embeds)\n",
    "\n",
    "embeddings = np.concatenate(embeddings, axis=0)\n",
    "embeddings.shape"
   ]
  },
  {
   "cell_type": "code",
   "execution_count": 33,
   "metadata": {},
   "outputs": [],
   "source": [
    "with open(\"data/tcrs_val_embeddings.pkl\", \"wb\") as f:\n",
    "    pickle.dump(embeddings, f)"
   ]
  },
  {
   "cell_type": "code",
   "execution_count": null,
   "metadata": {},
   "outputs": [],
   "source": []
  }
 ],
 "metadata": {
  "kernelspec": {
   "display_name": "ml",
   "language": "python",
   "name": "python3"
  },
  "language_info": {
   "codemirror_mode": {
    "name": "ipython",
    "version": 3
   },
   "file_extension": ".py",
   "mimetype": "text/x-python",
   "name": "python",
   "nbconvert_exporter": "python",
   "pygments_lexer": "ipython3",
   "version": "3.1.-1"
  },
  "orig_nbformat": 4
 },
 "nbformat": 4,
 "nbformat_minor": 2
}
