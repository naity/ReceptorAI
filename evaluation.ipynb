{
 "cells": [
  {
   "cell_type": "code",
   "execution_count": 1,
   "metadata": {},
   "outputs": [
    {
     "name": "stderr",
     "output_type": "stream",
     "text": [
      "/home/ytian/anaconda3/envs/receptorgpt/lib/python3.11/site-packages/pinecone/data/index.py:1: TqdmWarning: IProgress not found. Please update jupyter and ipywidgets. See https://ipywidgets.readthedocs.io/en/stable/user_install.html\n",
      "  from tqdm.autonotebook import tqdm\n"
     ]
    }
   ],
   "source": [
    "import pickle\n",
    "import numpy as np\n",
    "\n",
    "from utils.funcs import *\n",
    "from tqdm.autonotebook import tqdm"
   ]
  },
  {
   "cell_type": "code",
   "execution_count": 2,
   "metadata": {},
   "outputs": [
    {
     "data": {
      "text/plain": [
       "34099"
      ]
     },
     "execution_count": 2,
     "metadata": {},
     "output_type": "execute_result"
    }
   ],
   "source": [
    "with open(\"data/tcr_embeddings.pkl\", \"rb\") as f:\n",
    "    embeddings = pickle.load(f)\n",
    "len(embeddings)"
   ]
  },
  {
   "cell_type": "code",
   "execution_count": 3,
   "metadata": {},
   "outputs": [
    {
     "data": {
      "text/plain": [
       "320"
      ]
     },
     "execution_count": 3,
     "metadata": {},
     "output_type": "execute_result"
    }
   ],
   "source": [
    "len(embeddings[0])"
   ]
  },
  {
   "cell_type": "code",
   "execution_count": 4,
   "metadata": {},
   "outputs": [
    {
     "data": {
      "text/html": [
       "<div>\n",
       "<style scoped>\n",
       "    .dataframe tbody tr th:only-of-type {\n",
       "        vertical-align: middle;\n",
       "    }\n",
       "\n",
       "    .dataframe tbody tr th {\n",
       "        vertical-align: top;\n",
       "    }\n",
       "\n",
       "    .dataframe thead th {\n",
       "        text-align: right;\n",
       "    }\n",
       "</style>\n",
       "<table border=\"1\" class=\"dataframe\">\n",
       "  <thead>\n",
       "    <tr style=\"text-align: right;\">\n",
       "      <th></th>\n",
       "      <th>Species</th>\n",
       "      <th>Antigen Epitope</th>\n",
       "      <th>Antigen Protein</th>\n",
       "      <th>Antigen Source</th>\n",
       "      <th>CDR3.beta.aa</th>\n",
       "      <th>TRBV</th>\n",
       "      <th>TRBJ</th>\n",
       "      <th>Reference</th>\n",
       "      <th>Database</th>\n",
       "    </tr>\n",
       "  </thead>\n",
       "  <tbody>\n",
       "    <tr>\n",
       "      <th>0</th>\n",
       "      <td>Human</td>\n",
       "      <td>KLGGALQAK</td>\n",
       "      <td>IE1</td>\n",
       "      <td>CMV</td>\n",
       "      <td>CASSPKTSVTYNEQFF</td>\n",
       "      <td>TRBV7-9*01</td>\n",
       "      <td>TRBJ2-1*01</td>\n",
       "      <td>https://www.10xgenomics.com/resources/applicat...</td>\n",
       "      <td>VDJdb</td>\n",
       "    </tr>\n",
       "    <tr>\n",
       "      <th>1</th>\n",
       "      <td>Human</td>\n",
       "      <td>NLVPMVATV</td>\n",
       "      <td>pp65</td>\n",
       "      <td>CMV</td>\n",
       "      <td>CASSLDSLNTIYF</td>\n",
       "      <td>TRBV5-1*01</td>\n",
       "      <td>TRBJ1-3*01</td>\n",
       "      <td>https://pubmed.ncbi.nlm.nih.gov/28423320</td>\n",
       "      <td>VDJdb</td>\n",
       "    </tr>\n",
       "    <tr>\n",
       "      <th>2</th>\n",
       "      <td>Human</td>\n",
       "      <td>KLGGALQAK</td>\n",
       "      <td>IE1</td>\n",
       "      <td>CMV</td>\n",
       "      <td>CASSSRTSSTDTQYF</td>\n",
       "      <td>TRBV12-4*01</td>\n",
       "      <td>TRBJ2-3*01</td>\n",
       "      <td>https://www.10xgenomics.com/resources/applicat...</td>\n",
       "      <td>VDJdb</td>\n",
       "    </tr>\n",
       "    <tr>\n",
       "      <th>3</th>\n",
       "      <td>Human</td>\n",
       "      <td>KLGGALQAK</td>\n",
       "      <td>IE1</td>\n",
       "      <td>CMV</td>\n",
       "      <td>CSSESGTSEAFF</td>\n",
       "      <td>TRBV29-1*01</td>\n",
       "      <td>TRBJ1-1*01</td>\n",
       "      <td>https://www.10xgenomics.com/resources/applicat...</td>\n",
       "      <td>VDJdb</td>\n",
       "    </tr>\n",
       "    <tr>\n",
       "      <th>4</th>\n",
       "      <td>Human</td>\n",
       "      <td>KLGGALQAK</td>\n",
       "      <td>IE1</td>\n",
       "      <td>CMV</td>\n",
       "      <td>CSVEYGLAGSTDTQYF</td>\n",
       "      <td>TRBV29-1*01</td>\n",
       "      <td>TRBJ2-3*01</td>\n",
       "      <td>https://www.10xgenomics.com/resources/applicat...</td>\n",
       "      <td>VDJdb</td>\n",
       "    </tr>\n",
       "  </tbody>\n",
       "</table>\n",
       "</div>"
      ],
      "text/plain": [
       "  Species Antigen Epitope Antigen Protein Antigen Source      CDR3.beta.aa  \\\n",
       "0   Human       KLGGALQAK             IE1            CMV  CASSPKTSVTYNEQFF   \n",
       "1   Human       NLVPMVATV            pp65            CMV     CASSLDSLNTIYF   \n",
       "2   Human       KLGGALQAK             IE1            CMV   CASSSRTSSTDTQYF   \n",
       "3   Human       KLGGALQAK             IE1            CMV      CSSESGTSEAFF   \n",
       "4   Human       KLGGALQAK             IE1            CMV  CSVEYGLAGSTDTQYF   \n",
       "\n",
       "          TRBV        TRBJ                                          Reference  \\\n",
       "0   TRBV7-9*01  TRBJ2-1*01  https://www.10xgenomics.com/resources/applicat...   \n",
       "1   TRBV5-1*01  TRBJ1-3*01           https://pubmed.ncbi.nlm.nih.gov/28423320   \n",
       "2  TRBV12-4*01  TRBJ2-3*01  https://www.10xgenomics.com/resources/applicat...   \n",
       "3  TRBV29-1*01  TRBJ1-1*01  https://www.10xgenomics.com/resources/applicat...   \n",
       "4  TRBV29-1*01  TRBJ2-3*01  https://www.10xgenomics.com/resources/applicat...   \n",
       "\n",
       "  Database  \n",
       "0    VDJdb  \n",
       "1    VDJdb  \n",
       "2    VDJdb  \n",
       "3    VDJdb  \n",
       "4    VDJdb  "
      ]
     },
     "execution_count": 4,
     "metadata": {},
     "output_type": "execute_result"
    }
   ],
   "source": [
    "tcrs = pd.read_parquet(\"data/tcrs_final.parquet\")\n",
    "tcrs.head()"
   ]
  },
  {
   "cell_type": "code",
   "execution_count": 5,
   "metadata": {},
   "outputs": [
    {
     "name": "stdout",
     "output_type": "stream",
     "text": [
      "34099 34099\n"
     ]
    }
   ],
   "source": [
    "print(len(embeddings), len(tcrs))"
   ]
  },
  {
   "cell_type": "code",
   "execution_count": 6,
   "metadata": {},
   "outputs": [
    {
     "data": {
      "text/plain": [
       "{'ids': ['3e4da022-1f56-4f8f-98d7-6f076fb939c2'],\n",
       " 'metadatas': [{'Antigen Epitope': 'KLGGALQAK',\n",
       "   'Antigen Protein': 'IE1',\n",
       "   'Antigen Source': 'CMV',\n",
       "   'CDR3.beta.aa': 'CASSPKTSVTYNEQFF',\n",
       "   'Database': 'VDJdb',\n",
       "   'Reference': 'https://www.10xgenomics.com/resources/application-notes/a-new-way-of-exploring-immunity-linking-highly-multiplexed-antigen-recognition-to-immune-repertoire-and-phenotype/#',\n",
       "   'Species': 'Human',\n",
       "   'TRBJ': 'TRBJ2-1*01',\n",
       "   'TRBV': 'TRBV7-9*01'}],\n",
       " 'scores': [0.0]}"
      ]
     },
     "execution_count": 6,
     "metadata": {},
     "output_type": "execute_result"
    }
   ],
   "source": [
    "search_embedding(embeddings[0], 1, tcrs.loc[0, \"Species\"])"
   ]
  },
  {
   "cell_type": "code",
   "execution_count": 7,
   "metadata": {},
   "outputs": [],
   "source": [
    "def top_match_cdr3(embedding, species):\n",
    "    try:\n",
    "        result = search_embedding(embedding, 1, species)\n",
    "        pred_cdr3 = result[\"metadatas\"][0][\"CDR3.beta.aa\"]\n",
    "    except:\n",
    "        pred_cdr3 = np.nan\n",
    "    return pred_cdr3"
   ]
  },
  {
   "cell_type": "code",
   "execution_count": 8,
   "metadata": {},
   "outputs": [],
   "source": [
    "from joblib import Parallel, delayed"
   ]
  },
  {
   "cell_type": "code",
   "execution_count": 9,
   "metadata": {},
   "outputs": [
    {
     "name": "stderr",
     "output_type": "stream",
     "text": [
      "100%|██████████| 34099/34099 [07:07<00:00, 79.69it/s]\n"
     ]
    }
   ],
   "source": [
    "# run on all embeddings in parallel\n",
    "pred_cdr3s = Parallel(n_jobs=-1)(\n",
    "    delayed(top_match_cdr3)(embedding, tcrs.loc[i, \"Species\"])\n",
    "    for i, embedding in tqdm(enumerate(embeddings), total=len(embeddings))\n",
    ")"
   ]
  },
  {
   "cell_type": "code",
   "execution_count": 13,
   "metadata": {},
   "outputs": [],
   "source": [
    "true_cdr3s = tcrs[\"CDR3.beta.aa\"].tolist()"
   ]
  },
  {
   "cell_type": "code",
   "execution_count": 14,
   "metadata": {},
   "outputs": [
    {
     "name": "stdout",
     "output_type": "stream",
     "text": [
      "34099 34099\n"
     ]
    }
   ],
   "source": [
    "print(len(pred_cdr3s), len(true_cdr3s))"
   ]
  },
  {
   "cell_type": "code",
   "execution_count": 15,
   "metadata": {},
   "outputs": [
    {
     "name": "stdout",
     "output_type": "stream",
     "text": [
      "Accuracy: 93.7%\n"
     ]
    }
   ],
   "source": [
    "accuracy = (np.array(true_cdr3s) == np.array(pred_cdr3s)).mean()\n",
    "print(f\"Accuracy: {accuracy*100:.1f}%\")"
   ]
  },
  {
   "cell_type": "code",
   "execution_count": null,
   "metadata": {},
   "outputs": [],
   "source": []
  }
 ],
 "metadata": {
  "kernelspec": {
   "display_name": "ml",
   "language": "python",
   "name": "python3"
  },
  "language_info": {
   "codemirror_mode": {
    "name": "ipython",
    "version": 3
   },
   "file_extension": ".py",
   "mimetype": "text/x-python",
   "name": "python",
   "nbconvert_exporter": "python",
   "pygments_lexer": "ipython3",
   "version": "3.11.9"
  }
 },
 "nbformat": 4,
 "nbformat_minor": 2
}
