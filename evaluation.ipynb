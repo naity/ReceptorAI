{
 "cells": [
  {
   "cell_type": "code",
   "execution_count": 1,
   "metadata": {},
   "outputs": [],
   "source": [
    "import pickle\n",
    "import numpy as np\n",
    "\n",
    "from utils.funcs import *\n",
    "from tqdm.autonotebook import tqdm"
   ]
  },
  {
   "cell_type": "code",
   "execution_count": 2,
   "metadata": {},
   "outputs": [
    {
     "data": {
      "text/plain": [
       "41147"
      ]
     },
     "execution_count": 2,
     "metadata": {},
     "output_type": "execute_result"
    }
   ],
   "source": [
    "with open(\"data/tcr_embeddings.pkl\", \"rb\") as f:\n",
    "    embeddings = pickle.load(f)\n",
    "len(embeddings)"
   ]
  },
  {
   "cell_type": "code",
   "execution_count": 3,
   "metadata": {},
   "outputs": [
    {
     "data": {
      "text/plain": [
       "320"
      ]
     },
     "execution_count": 3,
     "metadata": {},
     "output_type": "execute_result"
    }
   ],
   "source": [
    "len(embeddings[0])"
   ]
  },
  {
   "cell_type": "code",
   "execution_count": 4,
   "metadata": {},
   "outputs": [
    {
     "data": {
      "text/html": [
       "<div>\n",
       "<style scoped>\n",
       "    .dataframe tbody tr th:only-of-type {\n",
       "        vertical-align: middle;\n",
       "    }\n",
       "\n",
       "    .dataframe tbody tr th {\n",
       "        vertical-align: top;\n",
       "    }\n",
       "\n",
       "    .dataframe thead th {\n",
       "        text-align: right;\n",
       "    }\n",
       "</style>\n",
       "<table border=\"1\" class=\"dataframe\">\n",
       "  <thead>\n",
       "    <tr style=\"text-align: right;\">\n",
       "      <th></th>\n",
       "      <th>Species</th>\n",
       "      <th>Antigen Epitope</th>\n",
       "      <th>Antigen Protein</th>\n",
       "      <th>Antigen Source</th>\n",
       "      <th>CDR3.beta.aa</th>\n",
       "      <th>TRBV</th>\n",
       "      <th>TRBJ</th>\n",
       "      <th>Reference</th>\n",
       "      <th>Database</th>\n",
       "    </tr>\n",
       "  </thead>\n",
       "  <tbody>\n",
       "    <tr>\n",
       "      <th>0</th>\n",
       "      <td>Human</td>\n",
       "      <td>KLGGALQAK</td>\n",
       "      <td>IE1</td>\n",
       "      <td>CMV</td>\n",
       "      <td>CASTPGLALNNEQFF</td>\n",
       "      <td>TRBV19*01</td>\n",
       "      <td>TRBJ2-1*01</td>\n",
       "      <td>https://www.10xgenomics.com/resources/applicat...</td>\n",
       "      <td>VDJdb</td>\n",
       "    </tr>\n",
       "    <tr>\n",
       "      <th>1</th>\n",
       "      <td>Human</td>\n",
       "      <td>KLGGALQAK</td>\n",
       "      <td>IE1</td>\n",
       "      <td>CMV</td>\n",
       "      <td>CSARGLSSYEQYF</td>\n",
       "      <td>TRBV20-1*01</td>\n",
       "      <td>TRBJ2-7*01</td>\n",
       "      <td>https://www.10xgenomics.com/resources/applicat...</td>\n",
       "      <td>VDJdb</td>\n",
       "    </tr>\n",
       "    <tr>\n",
       "      <th>2</th>\n",
       "      <td>Human</td>\n",
       "      <td>KLGGALQAK</td>\n",
       "      <td>IE1</td>\n",
       "      <td>CMV</td>\n",
       "      <td>CASSSMLTEKLFF</td>\n",
       "      <td>TRBV11-2*01</td>\n",
       "      <td>TRBJ1-4*01</td>\n",
       "      <td>https://www.10xgenomics.com/resources/applicat...</td>\n",
       "      <td>VDJdb</td>\n",
       "    </tr>\n",
       "    <tr>\n",
       "      <th>3</th>\n",
       "      <td>Human</td>\n",
       "      <td>KLGGALQAK</td>\n",
       "      <td>IE1</td>\n",
       "      <td>CMV</td>\n",
       "      <td>CASSVEGTQYF</td>\n",
       "      <td>TRBV9*01</td>\n",
       "      <td>TRBJ2-3*01</td>\n",
       "      <td>https://www.10xgenomics.com/resources/applicat...</td>\n",
       "      <td>VDJdb</td>\n",
       "    </tr>\n",
       "    <tr>\n",
       "      <th>4</th>\n",
       "      <td>Human</td>\n",
       "      <td>KLGGALQAK</td>\n",
       "      <td>IE1</td>\n",
       "      <td>CMV</td>\n",
       "      <td>CASSLSAGGHFYEQYF</td>\n",
       "      <td>TRBV27*01</td>\n",
       "      <td>TRBJ2-7*01</td>\n",
       "      <td>https://www.10xgenomics.com/resources/applicat...</td>\n",
       "      <td>VDJdb</td>\n",
       "    </tr>\n",
       "  </tbody>\n",
       "</table>\n",
       "</div>"
      ],
      "text/plain": [
       "  Species Antigen Epitope Antigen Protein Antigen Source      CDR3.beta.aa  \\\n",
       "0   Human       KLGGALQAK             IE1            CMV   CASTPGLALNNEQFF   \n",
       "1   Human       KLGGALQAK             IE1            CMV     CSARGLSSYEQYF   \n",
       "2   Human       KLGGALQAK             IE1            CMV     CASSSMLTEKLFF   \n",
       "3   Human       KLGGALQAK             IE1            CMV       CASSVEGTQYF   \n",
       "4   Human       KLGGALQAK             IE1            CMV  CASSLSAGGHFYEQYF   \n",
       "\n",
       "          TRBV        TRBJ                                          Reference  \\\n",
       "0    TRBV19*01  TRBJ2-1*01  https://www.10xgenomics.com/resources/applicat...   \n",
       "1  TRBV20-1*01  TRBJ2-7*01  https://www.10xgenomics.com/resources/applicat...   \n",
       "2  TRBV11-2*01  TRBJ1-4*01  https://www.10xgenomics.com/resources/applicat...   \n",
       "3     TRBV9*01  TRBJ2-3*01  https://www.10xgenomics.com/resources/applicat...   \n",
       "4    TRBV27*01  TRBJ2-7*01  https://www.10xgenomics.com/resources/applicat...   \n",
       "\n",
       "  Database  \n",
       "0    VDJdb  \n",
       "1    VDJdb  \n",
       "2    VDJdb  \n",
       "3    VDJdb  \n",
       "4    VDJdb  "
      ]
     },
     "execution_count": 4,
     "metadata": {},
     "output_type": "execute_result"
    }
   ],
   "source": [
    "tcrs = pd.read_parquet(\"data/tcrs_final.parquet\")\n",
    "tcrs.head()"
   ]
  },
  {
   "cell_type": "code",
   "execution_count": 5,
   "metadata": {},
   "outputs": [
    {
     "name": "stdout",
     "output_type": "stream",
     "text": [
      "41147 41147\n"
     ]
    }
   ],
   "source": [
    "print(len(embeddings), len(tcrs))"
   ]
  },
  {
   "cell_type": "code",
   "execution_count": 6,
   "metadata": {},
   "outputs": [
    {
     "data": {
      "text/plain": [
       "{'ids': ['1584404c-461e-4d8f-a1c4-9e83ebefd075'],\n",
       " 'metadatas': [{'Antigen Epitope': 'KLGGALQAK',\n",
       "   'Antigen Protein': 'IE1',\n",
       "   'Antigen Source': 'CMV',\n",
       "   'CDR3.beta.aa': 'CASTPGLALNNEQFF',\n",
       "   'Database': 'VDJdb',\n",
       "   'Reference': 'https://www.10xgenomics.com/resources/application-notes/a-new-way-of-exploring-immunity-linking-highly-multiplexed-antigen-recognition-to-immune-repertoire-and-phenotype/#',\n",
       "   'Species': 'Human',\n",
       "   'TRBJ': 'TRBJ2-1*01',\n",
       "   'TRBV': 'TRBV19*01'}],\n",
       " 'scores': [1.00276697]}"
      ]
     },
     "execution_count": 6,
     "metadata": {},
     "output_type": "execute_result"
    }
   ],
   "source": [
    "search_embedding(embeddings[0].tolist(), 1, tcrs.loc[0, \"Species\"])"
   ]
  },
  {
   "cell_type": "code",
   "execution_count": 7,
   "metadata": {},
   "outputs": [],
   "source": [
    "def top_match_cdr3(embedding, species):\n",
    "    try:\n",
    "        result = search_embedding(embedding.tolist(), 1, species)\n",
    "        pred_cdr3 = result[\"metadatas\"][0][\"CDR3.beta.aa\"]\n",
    "    except:\n",
    "        pred_cdr3 = np.nan\n",
    "    return pred_cdr3"
   ]
  },
  {
   "cell_type": "code",
   "execution_count": 8,
   "metadata": {},
   "outputs": [],
   "source": [
    "from joblib import Parallel, delayed"
   ]
  },
  {
   "cell_type": "code",
   "execution_count": 9,
   "metadata": {},
   "outputs": [
    {
     "data": {
      "application/vnd.jupyter.widget-view+json": {
       "model_id": "3750746db60c4e0caa71928e85695652",
       "version_major": 2,
       "version_minor": 0
      },
      "text/plain": [
       "  0%|          | 0/41147 [00:00<?, ?it/s]"
      ]
     },
     "metadata": {},
     "output_type": "display_data"
    }
   ],
   "source": [
    "# run on all embeddings in parallel\n",
    "pred_cdr3s = Parallel(n_jobs=-1)(\n",
    "    delayed(top_match_cdr3)(embedding, tcrs.loc[i, \"Species\"])\n",
    "    for i, embedding in tqdm(enumerate(embeddings), total=len(embeddings))\n",
    ")"
   ]
  },
  {
   "cell_type": "code",
   "execution_count": 10,
   "metadata": {},
   "outputs": [],
   "source": [
    "true_cdr3s = tcrs[\"CDR3.beta.aa\"].tolist()"
   ]
  },
  {
   "cell_type": "code",
   "execution_count": 11,
   "metadata": {},
   "outputs": [
    {
     "name": "stdout",
     "output_type": "stream",
     "text": [
      "41147 41147\n"
     ]
    }
   ],
   "source": [
    "print(len(pred_cdr3s), len(true_cdr3s))"
   ]
  },
  {
   "cell_type": "code",
   "execution_count": 12,
   "metadata": {},
   "outputs": [
    {
     "name": "stdout",
     "output_type": "stream",
     "text": [
      "Accuracy: 97.8%\n"
     ]
    }
   ],
   "source": [
    "accuracy = (np.array(true_cdr3s) == np.array(pred_cdr3s)).mean()\n",
    "print(f\"Accuracy: {accuracy*100:.1f}%\")"
   ]
  },
  {
   "cell_type": "code",
   "execution_count": 156,
   "metadata": {},
   "outputs": [],
   "source": [
    "# validation set\n",
    "tcrs_val = pd.read_parquet(\"data/tcrs_val.parquet\")\n",
    "\n",
    "# validation embeddings\n",
    "with open(\"data/tcrs_val_embeddings.pkl\", \"rb\") as f:\n",
    "    embeddings_val = pickle.load(f)"
   ]
  },
  {
   "cell_type": "code",
   "execution_count": 157,
   "metadata": {},
   "outputs": [
    {
     "data": {
      "text/html": [
       "<div>\n",
       "<style scoped>\n",
       "    .dataframe tbody tr th:only-of-type {\n",
       "        vertical-align: middle;\n",
       "    }\n",
       "\n",
       "    .dataframe tbody tr th {\n",
       "        vertical-align: top;\n",
       "    }\n",
       "\n",
       "    .dataframe thead th {\n",
       "        text-align: right;\n",
       "    }\n",
       "</style>\n",
       "<table border=\"1\" class=\"dataframe\">\n",
       "  <thead>\n",
       "    <tr style=\"text-align: right;\">\n",
       "      <th></th>\n",
       "      <th>Species</th>\n",
       "      <th>Antigen Epitope</th>\n",
       "      <th>Antigen Protein</th>\n",
       "      <th>Antigen Source</th>\n",
       "      <th>CDR3.beta.aa</th>\n",
       "      <th>TRBV</th>\n",
       "      <th>TRBJ</th>\n",
       "      <th>Reference</th>\n",
       "      <th>Database</th>\n",
       "    </tr>\n",
       "  </thead>\n",
       "  <tbody>\n",
       "    <tr>\n",
       "      <th>0</th>\n",
       "      <td>Human</td>\n",
       "      <td>GILGFVFTL</td>\n",
       "      <td>Matrix protein (M1)</td>\n",
       "      <td>Influenza</td>\n",
       "      <td>CASSILGKDTQYF</td>\n",
       "      <td>TRBV19</td>\n",
       "      <td>TRBJ2-3</td>\n",
       "      <td>https://pubmed.ncbi.nlm.nih.gov/28423320</td>\n",
       "      <td>McPAS-TCR</td>\n",
       "    </tr>\n",
       "    <tr>\n",
       "      <th>1</th>\n",
       "      <td>Human</td>\n",
       "      <td>GILGFVFTL</td>\n",
       "      <td>M</td>\n",
       "      <td>InfluenzaA</td>\n",
       "      <td>CASSLLGFSDGGTGELFF</td>\n",
       "      <td>TRBV5-4*01</td>\n",
       "      <td>TRBJ2-2*01</td>\n",
       "      <td>https://pubmed.ncbi.nlm.nih.gov/28423320</td>\n",
       "      <td>VDJdb</td>\n",
       "    </tr>\n",
       "    <tr>\n",
       "      <th>2</th>\n",
       "      <td>Human</td>\n",
       "      <td>GILGFVFTL</td>\n",
       "      <td>Matrix protein (M1)</td>\n",
       "      <td>Influenza</td>\n",
       "      <td>CAISDLSITGGDNYGYTF</td>\n",
       "      <td>TRBV1-1</td>\n",
       "      <td>TRBJ1-2:01</td>\n",
       "      <td>https://pubmed.ncbi.nlm.nih.gov/28300170</td>\n",
       "      <td>McPAS-TCR</td>\n",
       "    </tr>\n",
       "    <tr>\n",
       "      <th>3</th>\n",
       "      <td>Human</td>\n",
       "      <td>GILGFVFTL</td>\n",
       "      <td>M</td>\n",
       "      <td>InfluenzaA</td>\n",
       "      <td>CASSERRQGLGNQPQHF</td>\n",
       "      <td>TRBV10-1*01</td>\n",
       "      <td>TRBJ1-5*01</td>\n",
       "      <td>https://pubmed.ncbi.nlm.nih.gov/28423320</td>\n",
       "      <td>VDJdb</td>\n",
       "    </tr>\n",
       "    <tr>\n",
       "      <th>4</th>\n",
       "      <td>Human</td>\n",
       "      <td>GILGFVFTL</td>\n",
       "      <td>M</td>\n",
       "      <td>InfluenzaA</td>\n",
       "      <td>CASNRREHDEQFF</td>\n",
       "      <td>TRBV19*01</td>\n",
       "      <td>TRBJ2-1*01</td>\n",
       "      <td>https://pubmed.ncbi.nlm.nih.gov/28423320</td>\n",
       "      <td>VDJdb</td>\n",
       "    </tr>\n",
       "  </tbody>\n",
       "</table>\n",
       "</div>"
      ],
      "text/plain": [
       "  Species Antigen Epitope      Antigen Protein Antigen Source  \\\n",
       "0   Human       GILGFVFTL  Matrix protein (M1)      Influenza   \n",
       "1   Human       GILGFVFTL                    M     InfluenzaA   \n",
       "2   Human       GILGFVFTL  Matrix protein (M1)      Influenza   \n",
       "3   Human       GILGFVFTL                    M     InfluenzaA   \n",
       "4   Human       GILGFVFTL                    M     InfluenzaA   \n",
       "\n",
       "         CDR3.beta.aa         TRBV        TRBJ  \\\n",
       "0       CASSILGKDTQYF       TRBV19     TRBJ2-3   \n",
       "1  CASSLLGFSDGGTGELFF   TRBV5-4*01  TRBJ2-2*01   \n",
       "2  CAISDLSITGGDNYGYTF      TRBV1-1  TRBJ1-2:01   \n",
       "3   CASSERRQGLGNQPQHF  TRBV10-1*01  TRBJ1-5*01   \n",
       "4       CASNRREHDEQFF    TRBV19*01  TRBJ2-1*01   \n",
       "\n",
       "                                  Reference   Database  \n",
       "0  https://pubmed.ncbi.nlm.nih.gov/28423320  McPAS-TCR  \n",
       "1  https://pubmed.ncbi.nlm.nih.gov/28423320      VDJdb  \n",
       "2  https://pubmed.ncbi.nlm.nih.gov/28300170  McPAS-TCR  \n",
       "3  https://pubmed.ncbi.nlm.nih.gov/28423320      VDJdb  \n",
       "4  https://pubmed.ncbi.nlm.nih.gov/28423320      VDJdb  "
      ]
     },
     "execution_count": 157,
     "metadata": {},
     "output_type": "execute_result"
    }
   ],
   "source": [
    "tcrs_val.head()"
   ]
  },
  {
   "cell_type": "code",
   "execution_count": 158,
   "metadata": {},
   "outputs": [],
   "source": [
    "tcrs_val[\"Antigen Source\"] = tcrs_val[\"Antigen Source\"].map(\n",
    "    lambda x: \"Influenza\" if x.startswith(\"Influenza\") else x\n",
    ")"
   ]
  },
  {
   "cell_type": "code",
   "execution_count": 159,
   "metadata": {},
   "outputs": [
    {
     "data": {
      "text/plain": [
       "Antigen Source\n",
       "CMV          200\n",
       "Influenza    100\n",
       "Name: count, dtype: int64"
      ]
     },
     "execution_count": 159,
     "metadata": {},
     "output_type": "execute_result"
    }
   ],
   "source": [
    "tcrs_val[\"Antigen Source\"].value_counts()"
   ]
  },
  {
   "cell_type": "code",
   "execution_count": 160,
   "metadata": {},
   "outputs": [
    {
     "data": {
      "text/html": [
       "<div>\n",
       "<style scoped>\n",
       "    .dataframe tbody tr th:only-of-type {\n",
       "        vertical-align: middle;\n",
       "    }\n",
       "\n",
       "    .dataframe tbody tr th {\n",
       "        vertical-align: top;\n",
       "    }\n",
       "\n",
       "    .dataframe thead th {\n",
       "        text-align: right;\n",
       "    }\n",
       "</style>\n",
       "<table border=\"1\" class=\"dataframe\">\n",
       "  <thead>\n",
       "    <tr style=\"text-align: right;\">\n",
       "      <th></th>\n",
       "      <th>Species</th>\n",
       "      <th>Antigen Epitope</th>\n",
       "      <th>Antigen Protein</th>\n",
       "      <th>Antigen Source</th>\n",
       "      <th>CDR3.beta.aa</th>\n",
       "      <th>TRBV</th>\n",
       "      <th>TRBJ</th>\n",
       "      <th>Reference</th>\n",
       "      <th>Database</th>\n",
       "    </tr>\n",
       "  </thead>\n",
       "  <tbody>\n",
       "    <tr>\n",
       "      <th>0</th>\n",
       "      <td>Human</td>\n",
       "      <td>GILGFVFTL</td>\n",
       "      <td>Matrix protein (M1)</td>\n",
       "      <td>Influenza</td>\n",
       "      <td>CASSILGKDTQYF</td>\n",
       "      <td>TRBV19</td>\n",
       "      <td>TRBJ2-3</td>\n",
       "      <td>https://pubmed.ncbi.nlm.nih.gov/28423320</td>\n",
       "      <td>McPAS-TCR</td>\n",
       "    </tr>\n",
       "    <tr>\n",
       "      <th>1</th>\n",
       "      <td>Human</td>\n",
       "      <td>GILGFVFTL</td>\n",
       "      <td>M</td>\n",
       "      <td>Influenza</td>\n",
       "      <td>CASSLLGFSDGGTGELFF</td>\n",
       "      <td>TRBV5-4*01</td>\n",
       "      <td>TRBJ2-2*01</td>\n",
       "      <td>https://pubmed.ncbi.nlm.nih.gov/28423320</td>\n",
       "      <td>VDJdb</td>\n",
       "    </tr>\n",
       "    <tr>\n",
       "      <th>2</th>\n",
       "      <td>Human</td>\n",
       "      <td>GILGFVFTL</td>\n",
       "      <td>Matrix protein (M1)</td>\n",
       "      <td>Influenza</td>\n",
       "      <td>CAISDLSITGGDNYGYTF</td>\n",
       "      <td>TRBV1-1</td>\n",
       "      <td>TRBJ1-2:01</td>\n",
       "      <td>https://pubmed.ncbi.nlm.nih.gov/28300170</td>\n",
       "      <td>McPAS-TCR</td>\n",
       "    </tr>\n",
       "    <tr>\n",
       "      <th>3</th>\n",
       "      <td>Human</td>\n",
       "      <td>GILGFVFTL</td>\n",
       "      <td>M</td>\n",
       "      <td>Influenza</td>\n",
       "      <td>CASSERRQGLGNQPQHF</td>\n",
       "      <td>TRBV10-1*01</td>\n",
       "      <td>TRBJ1-5*01</td>\n",
       "      <td>https://pubmed.ncbi.nlm.nih.gov/28423320</td>\n",
       "      <td>VDJdb</td>\n",
       "    </tr>\n",
       "    <tr>\n",
       "      <th>4</th>\n",
       "      <td>Human</td>\n",
       "      <td>GILGFVFTL</td>\n",
       "      <td>M</td>\n",
       "      <td>Influenza</td>\n",
       "      <td>CASNRREHDEQFF</td>\n",
       "      <td>TRBV19*01</td>\n",
       "      <td>TRBJ2-1*01</td>\n",
       "      <td>https://pubmed.ncbi.nlm.nih.gov/28423320</td>\n",
       "      <td>VDJdb</td>\n",
       "    </tr>\n",
       "  </tbody>\n",
       "</table>\n",
       "</div>"
      ],
      "text/plain": [
       "  Species Antigen Epitope      Antigen Protein Antigen Source  \\\n",
       "0   Human       GILGFVFTL  Matrix protein (M1)      Influenza   \n",
       "1   Human       GILGFVFTL                    M      Influenza   \n",
       "2   Human       GILGFVFTL  Matrix protein (M1)      Influenza   \n",
       "3   Human       GILGFVFTL                    M      Influenza   \n",
       "4   Human       GILGFVFTL                    M      Influenza   \n",
       "\n",
       "         CDR3.beta.aa         TRBV        TRBJ  \\\n",
       "0       CASSILGKDTQYF       TRBV19     TRBJ2-3   \n",
       "1  CASSLLGFSDGGTGELFF   TRBV5-4*01  TRBJ2-2*01   \n",
       "2  CAISDLSITGGDNYGYTF      TRBV1-1  TRBJ1-2:01   \n",
       "3   CASSERRQGLGNQPQHF  TRBV10-1*01  TRBJ1-5*01   \n",
       "4       CASNRREHDEQFF    TRBV19*01  TRBJ2-1*01   \n",
       "\n",
       "                                  Reference   Database  \n",
       "0  https://pubmed.ncbi.nlm.nih.gov/28423320  McPAS-TCR  \n",
       "1  https://pubmed.ncbi.nlm.nih.gov/28423320      VDJdb  \n",
       "2  https://pubmed.ncbi.nlm.nih.gov/28300170  McPAS-TCR  \n",
       "3  https://pubmed.ncbi.nlm.nih.gov/28423320      VDJdb  \n",
       "4  https://pubmed.ncbi.nlm.nih.gov/28423320      VDJdb  "
      ]
     },
     "execution_count": 160,
     "metadata": {},
     "output_type": "execute_result"
    }
   ],
   "source": [
    "tcrs_val.head()"
   ]
  },
  {
   "cell_type": "code",
   "execution_count": 161,
   "metadata": {},
   "outputs": [],
   "source": [
    "import time"
   ]
  },
  {
   "cell_type": "code",
   "execution_count": 162,
   "metadata": {},
   "outputs": [
    {
     "data": {
      "application/vnd.jupyter.widget-view+json": {
       "model_id": "c3d4e3eec7e54c28812478fb804c9657",
       "version_major": 2,
       "version_minor": 0
      },
      "text/plain": [
       "  0%|          | 0/300 [00:00<?, ?it/s]"
      ]
     },
     "metadata": {},
     "output_type": "display_data"
    },
    {
     "name": "stdout",
     "output_type": "stream",
     "text": [
      "Time per TCR: 0.36 seconds\n"
     ]
    }
   ],
   "source": [
    "# for each validation tcr embeddings, get the top 20 matches\n",
    "# need the Antigen Epitope of the top10 matches to calculate metrics\n",
    "# precision@k and MMR\n",
    "k = 20\n",
    "pred_epitopes = []\n",
    "\n",
    "# time\n",
    "start = time.time()\n",
    "\n",
    "for i in tqdm(tcrs_val.index.tolist()):\n",
    "    embedding = embeddings_val[i]\n",
    "    result = search_embedding(embedding.tolist(), k, tcrs_val.loc[i, \"Species\"])\n",
    "    pred_epitopes.append([result[\"metadatas\"][j][\"Antigen Source\"] for j in range(k)])\n",
    "\n",
    "end = time.time()\n",
    "# average time per tcr\n",
    "print(f\"Time per TCR: {(end-start)/len(tcrs_val):.2f} seconds\")"
   ]
  },
  {
   "cell_type": "code",
   "execution_count": 163,
   "metadata": {},
   "outputs": [
    {
     "data": {
      "text/plain": [
       "300"
      ]
     },
     "execution_count": 163,
     "metadata": {},
     "output_type": "execute_result"
    }
   ],
   "source": [
    "len(pred_epitopes)"
   ]
  },
  {
   "cell_type": "code",
   "execution_count": 164,
   "metadata": {},
   "outputs": [
    {
     "data": {
      "text/plain": [
       "20"
      ]
     },
     "execution_count": 164,
     "metadata": {},
     "output_type": "execute_result"
    }
   ],
   "source": [
    "len(pred_epitopes[0])"
   ]
  },
  {
   "cell_type": "code",
   "execution_count": 165,
   "metadata": {},
   "outputs": [],
   "source": [
    "for pred in pred_epitopes:\n",
    "    for i, epitope in enumerate(pred):\n",
    "        if epitope.startswith(\"Influenza\"):\n",
    "            # clearn up\n",
    "            pred[i] = \"Influenza\""
   ]
  },
  {
   "cell_type": "code",
   "execution_count": 166,
   "metadata": {},
   "outputs": [
    {
     "data": {
      "text/plain": [
       "['CMV',\n",
       " 'Influenza',\n",
       " 'Influenza',\n",
       " 'EBV',\n",
       " 'SARS-CoV-2',\n",
       " 'Influenza',\n",
       " 'DENV1',\n",
       " 'SARS-CoV-2',\n",
       " 'DENV3/4',\n",
       " 'Influenza',\n",
       " 'CMV',\n",
       " 'Neoantigen',\n",
       " 'EBV',\n",
       " 'SARS-CoV-2',\n",
       " 'CMV',\n",
       " 'CMV',\n",
       " 'EBV',\n",
       " 'HIV-1',\n",
       " 'SARS-CoV-2',\n",
       " 'HCV']"
      ]
     },
     "execution_count": 166,
     "metadata": {},
     "output_type": "execute_result"
    }
   ],
   "source": [
    "pred_epitopes[0]"
   ]
  },
  {
   "cell_type": "code",
   "execution_count": 167,
   "metadata": {},
   "outputs": [],
   "source": [
    "# calculate MMR\n",
    "mmr = []\n",
    "for i in tcrs_val.index.tolist():\n",
    "    true_epitope = tcrs_val.loc[i, \"Antigen Source\"]\n",
    "    # if true epitope is not in the top k, mmr = 0\n",
    "    if true_epitope not in pred_epitopes[i]:\n",
    "        mmr.append(0)\n",
    "    else:\n",
    "        mmr.append(1 / (1 + pred_epitopes[i].index(true_epitope)))"
   ]
  },
  {
   "cell_type": "code",
   "execution_count": 168,
   "metadata": {},
   "outputs": [
    {
     "name": "stdout",
     "output_type": "stream",
     "text": [
      "MMR: 0.53\n"
     ]
    }
   ],
   "source": [
    "print(f\"MMR: {np.mean(mmr):.2f}\")"
   ]
  },
  {
   "cell_type": "code",
   "execution_count": 169,
   "metadata": {},
   "outputs": [
    {
     "name": "stdout",
     "output_type": "stream",
     "text": [
      "On average, TCR with the same epitope found at position 2\n"
     ]
    }
   ],
   "source": [
    "print(f\"On average, TCR with the same epitope found at position {1/np.mean(mmr):.0f}\")"
   ]
  },
  {
   "cell_type": "code",
   "execution_count": 170,
   "metadata": {},
   "outputs": [],
   "source": [
    "# precision@k\n",
    "k = 10\n",
    "precision = []\n",
    "\n",
    "for i in tcrs_val.index.tolist():\n",
    "    true_epitope = tcrs_val.loc[i, \"Antigen Source\"]\n",
    "    num_correct = 0\n",
    "    for j in range(k):\n",
    "        if pred_epitopes[i][j] == true_epitope:\n",
    "            num_correct += 1\n",
    "\n",
    "    precision.append(num_correct / k)"
   ]
  },
  {
   "cell_type": "code",
   "execution_count": 171,
   "metadata": {},
   "outputs": [
    {
     "name": "stdout",
     "output_type": "stream",
     "text": [
      "Precision@10: 0.32\n"
     ]
    }
   ],
   "source": [
    "print(f\"Precision@{k}: {np.mean(precision):.2f}\")"
   ]
  },
  {
   "cell_type": "code",
   "execution_count": 175,
   "metadata": {},
   "outputs": [
    {
     "name": "stdout",
     "output_type": "stream",
     "text": [
      "Precision@10: 0.29\n"
     ]
    }
   ],
   "source": [
    "print(f\"Precision@{k}: {np.mean(precision[:100]):.2f}\")"
   ]
  },
  {
   "cell_type": "code",
   "execution_count": 173,
   "metadata": {},
   "outputs": [
    {
     "name": "stdout",
     "output_type": "stream",
     "text": [
      "Precision@10: 0.32\n"
     ]
    }
   ],
   "source": [
    "print(f\"Precision@{k}: {np.mean(precision[100:200]):.2f}\")"
   ]
  },
  {
   "cell_type": "code",
   "execution_count": 174,
   "metadata": {},
   "outputs": [
    {
     "name": "stdout",
     "output_type": "stream",
     "text": [
      "Precision@10: 0.34\n"
     ]
    }
   ],
   "source": [
    "print(f\"Precision@{k}: {np.mean(precision[200:]):.2f}\")"
   ]
  },
  {
   "cell_type": "code",
   "execution_count": null,
   "metadata": {},
   "outputs": [],
   "source": []
  }
 ],
 "metadata": {
  "kernelspec": {
   "display_name": "ml",
   "language": "python",
   "name": "python3"
  },
  "language_info": {
   "codemirror_mode": {
    "name": "ipython",
    "version": 3
   },
   "file_extension": ".py",
   "mimetype": "text/x-python",
   "name": "python",
   "nbconvert_exporter": "python",
   "pygments_lexer": "ipython3",
   "version": "3.1.-1"
  }
 },
 "nbformat": 4,
 "nbformat_minor": 2
}
